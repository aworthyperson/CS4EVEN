{
 "cells": [
  {
   "cell_type": "code",
   "execution_count": 8,
   "id": "1a4f587e-0bd9-4137-8f7a-3e249d32313c",
   "metadata": {},
   "outputs": [],
   "source": [
    "#import packages\n",
    "\n",
    "\n",
    "import numpy as np\n",
    "import matplotlib.pyplot as plt\n",
    "import pandas as pd\n",
    "#import geopandas as gpd\n",
    "#from shapely.geometry import Point, Polygon, box\n",
    "#import fiona\n",
    "#import pyproj\n",
    "#import contextily as ctx\n",
    "import os\n",
    "import requests\n",
    "import matplotlib.ticker as ticker\n",
    "import scipy.stats as stats\n",
    "import matplotlib.pyplot as plt\n",
    "from matplotlib import pyplot\n",
    "from matplotlib.ticker import PercentFormatter\n",
    "import requests\n",
    "import matplotlib.colors as colors\n",
    "import pandas as pd\n",
    "import os\n",
    "import glob\n",
    "\n",
    "#%matplotlib widget\n",
    "%matplotlib inline"
   ]
  },
  {
   "cell_type": "code",
   "execution_count": 37,
   "id": "20fab840-c05c-4141-9218-4d7fbe3cc12d",
   "metadata": {},
   "outputs": [
    {
     "name": "stdout",
     "output_type": "stream",
     "text": [
      "Requirement already satisfied: openpyxl in /Users/amandaworthy/opt/anaconda3/envs/uwgda2022/lib/python3.9/site-packages (3.0.10)\n",
      "Requirement already satisfied: et-xmlfile in /Users/amandaworthy/opt/anaconda3/envs/uwgda2022/lib/python3.9/site-packages (from openpyxl) (1.1.0)\n"
     ]
    }
   ],
   "source": [
    "!pip3 install openpyxl"
   ]
  },
  {
   "cell_type": "markdown",
   "id": "1cd801e9-f5e6-485f-89ba-63d1d8bbc924",
   "metadata": {},
   "source": [
    "# This notebook will combine the data logs collected from different instruments at UW"
   ]
  },
  {
   "cell_type": "code",
   "execution_count": 10,
   "id": "a537aaa8-6471-4579-85bc-a610d35f728b",
   "metadata": {},
   "outputs": [
    {
     "name": "stdout",
     "output_type": "stream",
     "text": [
      "/Users/amandaworthy/CS4EVN/Data\n"
     ]
    }
   ],
   "source": [
    "!pwd"
   ]
  },
  {
   "cell_type": "code",
   "execution_count": 9,
   "id": "a53a9714-c322-4a26-835f-8607323290fd",
   "metadata": {},
   "outputs": [
    {
     "name": "stdout",
     "output_type": "stream",
     "text": [
      "Data_Organization_Instruments.ipynb \u001b[34mQUESTTEMP_Reports\u001b[m\u001b[m\n",
      "\u001b[34mGas_Lab_Reports\u001b[m\u001b[m\n"
     ]
    }
   ],
   "source": [
    "!ls"
   ]
  },
  {
   "cell_type": "code",
   "execution_count": null,
   "id": "4e597485-c1e3-4381-b4ed-637285a10145",
   "metadata": {},
   "outputs": [],
   "source": [
    "#code to grab specific gaslab report\n",
    "\n",
    "one= pd.read_csv(\"Gas_Lab_Reports/January-14-2023.csv\", sep=',', header=[1])\n",
    "one.head()\n",
    "\n",
    "list(one.columns)"
   ]
  },
  {
   "cell_type": "markdown",
   "id": "8fa91d64-f434-4df4-9d18-67b078e0734d",
   "metadata": {},
   "source": [
    "## Read in all files from gaslab"
   ]
  },
  {
   "cell_type": "code",
   "execution_count": 79,
   "id": "1f84db06-cc27-461b-90e4-ebf7e929e0f6",
   "metadata": {},
   "outputs": [
    {
     "data": {
      "text/plain": [
       "['/Users/amandaworthy/CS4EVN/Data/Gas_Lab_Reports/January-14-2023.csv',\n",
       " '/Users/amandaworthy/CS4EVN/Data/Gas_Lab_Reports/January-17-2023.csv']"
      ]
     },
     "execution_count": 79,
     "metadata": {},
     "output_type": "execute_result"
    }
   ],
   "source": [
    "import os\n",
    "import pandas as pd\n",
    "import glob\n",
    "import openpyxl\n",
    "path_co2 = os.path.abspath('Gas_Lab_Reports') \n",
    "files_co2 = os.listdir(path_co2) \n",
    "file_list_co2 = glob.glob(path + \"/*.csv\")\n",
    "file_list_co2"
   ]
  },
  {
   "cell_type": "code",
   "execution_count": 80,
   "id": "e812d5d0-11ab-409e-ae2c-eb34f7f63c44",
   "metadata": {},
   "outputs": [
    {
     "data": {
      "text/html": [
       "<div>\n",
       "<style scoped>\n",
       "    .dataframe tbody tr th:only-of-type {\n",
       "        vertical-align: middle;\n",
       "    }\n",
       "\n",
       "    .dataframe tbody tr th {\n",
       "        vertical-align: top;\n",
       "    }\n",
       "\n",
       "    .dataframe thead th {\n",
       "        text-align: right;\n",
       "    }\n",
       "</style>\n",
       "<table border=\"1\" class=\"dataframe\">\n",
       "  <thead>\n",
       "    <tr style=\"text-align: right;\">\n",
       "      <th></th>\n",
       "      <th>Date_Time</th>\n",
       "      <th>CO2_gas_lab</th>\n",
       "      <th>Temperature_gas_lab</th>\n",
       "      <th>Humidity_gas_lab</th>\n",
       "    </tr>\n",
       "  </thead>\n",
       "  <tbody>\n",
       "    <tr>\n",
       "      <th>0</th>\n",
       "      <td>2023-01-14 16:28:59.813</td>\n",
       "      <td>771</td>\n",
       "      <td>19.21</td>\n",
       "      <td>60.82</td>\n",
       "    </tr>\n",
       "    <tr>\n",
       "      <th>1</th>\n",
       "      <td>2023-01-14 16:29:59.815</td>\n",
       "      <td>761</td>\n",
       "      <td>19.33</td>\n",
       "      <td>59.93</td>\n",
       "    </tr>\n",
       "    <tr>\n",
       "      <th>2</th>\n",
       "      <td>2023-01-14 16:30:59.808</td>\n",
       "      <td>758</td>\n",
       "      <td>19.40</td>\n",
       "      <td>59.56</td>\n",
       "    </tr>\n",
       "    <tr>\n",
       "      <th>3</th>\n",
       "      <td>2023-01-14 16:31:59.812</td>\n",
       "      <td>760</td>\n",
       "      <td>19.48</td>\n",
       "      <td>59.38</td>\n",
       "    </tr>\n",
       "    <tr>\n",
       "      <th>4</th>\n",
       "      <td>2023-01-14 16:32:59.814</td>\n",
       "      <td>750</td>\n",
       "      <td>19.50</td>\n",
       "      <td>59.17</td>\n",
       "    </tr>\n",
       "    <tr>\n",
       "      <th>...</th>\n",
       "      <td>...</td>\n",
       "      <td>...</td>\n",
       "      <td>...</td>\n",
       "      <td>...</td>\n",
       "    </tr>\n",
       "    <tr>\n",
       "      <th>474</th>\n",
       "      <td>2023-01-17 14:48:17.038</td>\n",
       "      <td>807</td>\n",
       "      <td>21.94</td>\n",
       "      <td>50.71</td>\n",
       "    </tr>\n",
       "    <tr>\n",
       "      <th>475</th>\n",
       "      <td>2023-01-17 14:48:47.047</td>\n",
       "      <td>804</td>\n",
       "      <td>21.99</td>\n",
       "      <td>50.62</td>\n",
       "    </tr>\n",
       "    <tr>\n",
       "      <th>476</th>\n",
       "      <td>2023-01-17 14:49:17.036</td>\n",
       "      <td>806</td>\n",
       "      <td>22.01</td>\n",
       "      <td>50.52</td>\n",
       "    </tr>\n",
       "    <tr>\n",
       "      <th>477</th>\n",
       "      <td>2023-01-17 14:49:47.043</td>\n",
       "      <td>807</td>\n",
       "      <td>22.03</td>\n",
       "      <td>50.52</td>\n",
       "    </tr>\n",
       "    <tr>\n",
       "      <th>478</th>\n",
       "      <td>2023-01-17 14:50:17.038</td>\n",
       "      <td>805</td>\n",
       "      <td>22.04</td>\n",
       "      <td>50.52</td>\n",
       "    </tr>\n",
       "  </tbody>\n",
       "</table>\n",
       "<p>3558 rows × 4 columns</p>\n",
       "</div>"
      ],
      "text/plain": [
       "                  Date_Time  CO2_gas_lab  Temperature_gas_lab  \\\n",
       "0   2023-01-14 16:28:59.813          771                19.21   \n",
       "1   2023-01-14 16:29:59.815          761                19.33   \n",
       "2   2023-01-14 16:30:59.808          758                19.40   \n",
       "3   2023-01-14 16:31:59.812          760                19.48   \n",
       "4   2023-01-14 16:32:59.814          750                19.50   \n",
       "..                      ...          ...                  ...   \n",
       "474 2023-01-17 14:48:17.038          807                21.94   \n",
       "475 2023-01-17 14:48:47.047          804                21.99   \n",
       "476 2023-01-17 14:49:17.036          806                22.01   \n",
       "477 2023-01-17 14:49:47.043          807                22.03   \n",
       "478 2023-01-17 14:50:17.038          805                22.04   \n",
       "\n",
       "     Humidity_gas_lab  \n",
       "0               60.82  \n",
       "1               59.93  \n",
       "2               59.56  \n",
       "3               59.38  \n",
       "4               59.17  \n",
       "..                ...  \n",
       "474             50.71  \n",
       "475             50.62  \n",
       "476             50.52  \n",
       "477             50.52  \n",
       "478             50.52  \n",
       "\n",
       "[3558 rows x 4 columns]"
      ]
     },
     "execution_count": 80,
     "metadata": {},
     "output_type": "execute_result"
    }
   ],
   "source": [
    "df = pd.DataFrame()\n",
    "for file in file_list_co2:\n",
    "    temp_df = pd.read_csv(file, header=[1])\n",
    "    df = pd.concat([df, temp_df], axis=0)\n",
    "\n",
    "\n",
    "#remove columns w only na\n",
    "df= df.dropna(axis=1, how='all')\n",
    "\n",
    "#rename columns\n",
    "df= df.rename(columns= {\"Unnamed: 0\": \"Date_Time\", 'CO2': \"CO2_gas_lab\", 'Temperature': \"Temperature_gas_lab\", 'Humidity': \"Humidity_gas_lab\"})\n",
    "\n",
    "#make datetime column a datetime :) \n",
    "df\n",
    "\n",
    "\n",
    "df['Date_Time'] =  pd.to_datetime(df['Date_Time'])\n",
    "df"
   ]
  },
  {
   "cell_type": "code",
   "execution_count": 81,
   "id": "77e1c570-c5ef-4753-b09f-4960596a3cab",
   "metadata": {},
   "outputs": [],
   "source": [
    "#leave blank"
   ]
  },
  {
   "cell_type": "code",
   "execution_count": null,
   "id": "3a3b6421-946c-4126-9062-09a5f6500a17",
   "metadata": {},
   "outputs": [],
   "source": []
  },
  {
   "cell_type": "markdown",
   "id": "d7ebd688-f49d-4945-843a-369f88548cb4",
   "metadata": {},
   "source": [
    "## Read in all files from Questtemp"
   ]
  },
  {
   "cell_type": "code",
   "execution_count": 127,
   "id": "103968ab-0e1d-467a-9b60-0ed4bfbfa505",
   "metadata": {},
   "outputs": [
    {
     "name": "stdout",
     "output_type": "stream",
     "text": [
      "/Users/amandaworthy/CS4EVN/Data\n"
     ]
    }
   ],
   "source": [
    "!pwd"
   ]
  },
  {
   "cell_type": "code",
   "execution_count": 128,
   "id": "d203d44c-3799-48b9-8a21-c5c7c83570ec",
   "metadata": {},
   "outputs": [
    {
     "data": {
      "text/plain": [
       "['Timestamp',\n",
       " 'DryBulb',\n",
       " 'Globe',\n",
       " 'HeatIndex',\n",
       " 'Humidity',\n",
       " 'WBGTIn',\n",
       " 'WBGTOut',\n",
       " 'WetBulb']"
      ]
     },
     "execution_count": 128,
     "metadata": {},
     "output_type": "execute_result"
    }
   ],
   "source": [
    "#code to grab specific gaslab report\n",
    "\n",
    "two= pd.read_csv(\"QUESTTEMP_Reports/1_13_room.csv\", header=[19])\n",
    "\n",
    "\n",
    "list(two.columns)"
   ]
  },
  {
   "cell_type": "code",
   "execution_count": 140,
   "id": "018be379-d1e0-4f54-8b36-e3705b2674aa",
   "metadata": {},
   "outputs": [],
   "source": [
    "two.head()\n",
    "\n",
    "two.drop(two.tail(1851-1806).index,inplace=True)\n",
    "two['Timestamp'] =  pd.to_datetime(two['Timestamp'])"
   ]
  },
  {
   "cell_type": "code",
   "execution_count": 141,
   "id": "10c3ac37-4d01-40eb-a16a-25986e29b0b9",
   "metadata": {},
   "outputs": [
    {
     "data": {
      "text/plain": [
       "['/Users/amandaworthy/CS4EVN/Data/QUESTTEMP_Reports/1_13_room.csv']"
      ]
     },
     "execution_count": 141,
     "metadata": {},
     "output_type": "execute_result"
    }
   ],
   "source": [
    "import os\n",
    "import pandas as pd\n",
    "import glob\n",
    "import openpyxl\n",
    "path_temp = os.path.abspath('QUESTTEMP_Reports') \n",
    "files_temp = os.listdir(path_temp) \n",
    "file_list_temp = glob.glob(path_temp + \"/*.csv\")\n",
    "file_list_temp"
   ]
  },
  {
   "cell_type": "code",
   "execution_count": 142,
   "id": "dad9bb8a-5356-4bc6-9fd7-ed3364961ee6",
   "metadata": {},
   "outputs": [
    {
     "name": "stdout",
     "output_type": "stream",
     "text": [
      "/Users/amandaworthy/CS4EVN/Data/QUESTTEMP_Reports/1_13_room.csv\n"
     ]
    }
   ],
   "source": [
    "#only have one df right now so haven't figured out full syntex \n",
    "\n",
    "df_temp = pd.DataFrame()\n",
    "for file in file_list_temp:\n",
    "    print(file)\n"
   ]
  },
  {
   "cell_type": "markdown",
   "id": "93b76549-a2de-4f71-9ae2-f0b6931572b0",
   "metadata": {},
   "source": [
    "## Merge the two df together from CO2 sensor and Tempoquest\n",
    "#### Merge by timestamp"
   ]
  },
  {
   "cell_type": "code",
   "execution_count": null,
   "id": "d4077d78-debe-40e8-bb6f-de7dcde70dab",
   "metadata": {},
   "outputs": [],
   "source": []
  }
 ],
 "metadata": {
  "kernelspec": {
   "display_name": "Python 3 (ipykernel)",
   "language": "python",
   "name": "python3"
  },
  "language_info": {
   "codemirror_mode": {
    "name": "ipython",
    "version": 3
   },
   "file_extension": ".py",
   "mimetype": "text/x-python",
   "name": "python",
   "nbconvert_exporter": "python",
   "pygments_lexer": "ipython3",
   "version": "3.9.12"
  }
 },
 "nbformat": 4,
 "nbformat_minor": 5
}
