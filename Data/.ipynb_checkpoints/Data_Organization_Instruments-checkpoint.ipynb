{
 "cells": [
  {
   "cell_type": "code",
   "execution_count": 1,
   "id": "1a4f587e-0bd9-4137-8f7a-3e249d32313c",
   "metadata": {},
   "outputs": [],
   "source": [
    "#import packages\n",
    "\n",
    "\n",
    "import numpy as np\n",
    "import matplotlib.pyplot as plt\n",
    "import pandas as pd\n",
    "#import geopandas as gpd\n",
    "#from shapely.geometry import Point, Polygon, box\n",
    "#import fiona\n",
    "#import pyproj\n",
    "#import contextily as ctx\n",
    "import os\n",
    "import requests\n",
    "import matplotlib.ticker as ticker\n",
    "import scipy.stats as stats\n",
    "import matplotlib.pyplot as plt\n",
    "from matplotlib import pyplot\n",
    "from matplotlib.ticker import PercentFormatter\n",
    "import requests\n",
    "import matplotlib.colors as colors\n",
    "import pandas as pd\n",
    "import os\n",
    "import glob\n",
    "\n",
    "#%matplotlib widget\n",
    "%matplotlib inline"
   ]
  },
  {
   "cell_type": "code",
   "execution_count": 2,
   "id": "20fab840-c05c-4141-9218-4d7fbe3cc12d",
   "metadata": {},
   "outputs": [
    {
     "name": "stdout",
     "output_type": "stream",
     "text": [
      "Requirement already satisfied: openpyxl in /Users/amandaworthy/opt/anaconda3/envs/uwgda2022/lib/python3.9/site-packages (3.0.10)\n",
      "Requirement already satisfied: et-xmlfile in /Users/amandaworthy/opt/anaconda3/envs/uwgda2022/lib/python3.9/site-packages (from openpyxl) (1.1.0)\n"
     ]
    }
   ],
   "source": [
    "!pip3 install openpyxl"
   ]
  },
  {
   "cell_type": "markdown",
   "id": "1cd801e9-f5e6-485f-89ba-63d1d8bbc924",
   "metadata": {},
   "source": [
    "# This notebook will combine the data logs collected from different instruments at UW"
   ]
  },
  {
   "cell_type": "code",
   "execution_count": 3,
   "id": "a537aaa8-6471-4579-85bc-a610d35f728b",
   "metadata": {},
   "outputs": [
    {
     "name": "stdout",
     "output_type": "stream",
     "text": [
      "/Users/amandaworthy/CS4EVN/Data\n"
     ]
    }
   ],
   "source": [
    "!pwd"
   ]
  },
  {
   "cell_type": "code",
   "execution_count": 4,
   "id": "a53a9714-c322-4a26-835f-8607323290fd",
   "metadata": {},
   "outputs": [
    {
     "name": "stdout",
     "output_type": "stream",
     "text": [
      "Data_Organization_Instruments.ipynb \u001b[34mQUESTTEMP_Reports\u001b[m\u001b[m\n",
      "\u001b[34mGas_Lab_Reports\u001b[m\u001b[m\n"
     ]
    }
   ],
   "source": [
    "!ls"
   ]
  },
  {
   "cell_type": "code",
   "execution_count": 14,
   "id": "4e597485-c1e3-4381-b4ed-637285a10145",
   "metadata": {},
   "outputs": [
    {
     "data": {
      "text/plain": [
       "['Unnamed: 0', 'CO2', 'Temperature', 'Humidity', 'Unnamed: 4']"
      ]
     },
     "execution_count": 14,
     "metadata": {},
     "output_type": "execute_result"
    }
   ],
   "source": [
    "#code to grab specific gaslab report\n",
    "\n",
    "one= pd.read_csv(\"Gas_Lab_Reports/Allen 605/January-24-2023_Allen.csv\", sep=',', header=[1])\n",
    "one.head()\n",
    "\n",
    "list(one.columns)"
   ]
  },
  {
   "cell_type": "markdown",
   "id": "8fa91d64-f434-4df4-9d18-67b078e0734d",
   "metadata": {},
   "source": [
    "## Read in all files from gaslab"
   ]
  },
  {
   "cell_type": "code",
   "execution_count": 15,
   "id": "1f84db06-cc27-461b-90e4-ebf7e929e0f6",
   "metadata": {},
   "outputs": [
    {
     "data": {
      "text/plain": [
       "['/Users/amandaworthy/CS4EVN/Data/Gas_Lab_Reports/Allen 605/January-24-2023_Allen.csv']"
      ]
     },
     "execution_count": 15,
     "metadata": {},
     "output_type": "execute_result"
    }
   ],
   "source": [
    "import os\n",
    "import pandas as pd\n",
    "import glob\n",
    "import openpyxl\n",
    "path_co2 = os.path.abspath('Gas_Lab_Reports/Allen 605') \n",
    "files_co2 = os.listdir(path_co2) \n",
    "file_list_co2 = glob.glob(path_co2 + \"/*.csv\")\n",
    "file_list_co2"
   ]
  },
  {
   "cell_type": "code",
   "execution_count": 16,
   "id": "e812d5d0-11ab-409e-ae2c-eb34f7f63c44",
   "metadata": {},
   "outputs": [
    {
     "data": {
      "text/html": [
       "<div>\n",
       "<style scoped>\n",
       "    .dataframe tbody tr th:only-of-type {\n",
       "        vertical-align: middle;\n",
       "    }\n",
       "\n",
       "    .dataframe tbody tr th {\n",
       "        vertical-align: top;\n",
       "    }\n",
       "\n",
       "    .dataframe thead th {\n",
       "        text-align: right;\n",
       "    }\n",
       "</style>\n",
       "<table border=\"1\" class=\"dataframe\">\n",
       "  <thead>\n",
       "    <tr style=\"text-align: right;\">\n",
       "      <th></th>\n",
       "      <th>Date_Time</th>\n",
       "      <th>CO2_gas_lab</th>\n",
       "      <th>Temperature_gas_lab</th>\n",
       "      <th>Humidity_gas_lab</th>\n",
       "    </tr>\n",
       "  </thead>\n",
       "  <tbody>\n",
       "    <tr>\n",
       "      <th>0</th>\n",
       "      <td>2023-01-24 14:12:31.119</td>\n",
       "      <td>0</td>\n",
       "      <td>24.05</td>\n",
       "      <td>32.57</td>\n",
       "    </tr>\n",
       "    <tr>\n",
       "      <th>1</th>\n",
       "      <td>2023-01-24 14:13:31.110</td>\n",
       "      <td>593</td>\n",
       "      <td>24.20</td>\n",
       "      <td>32.06</td>\n",
       "    </tr>\n",
       "    <tr>\n",
       "      <th>2</th>\n",
       "      <td>2023-01-24 14:14:31.110</td>\n",
       "      <td>590</td>\n",
       "      <td>24.32</td>\n",
       "      <td>31.96</td>\n",
       "    </tr>\n",
       "    <tr>\n",
       "      <th>3</th>\n",
       "      <td>2023-01-24 14:15:31.098</td>\n",
       "      <td>597</td>\n",
       "      <td>24.39</td>\n",
       "      <td>31.79</td>\n",
       "    </tr>\n",
       "    <tr>\n",
       "      <th>4</th>\n",
       "      <td>2023-01-24 14:16:31.102</td>\n",
       "      <td>594</td>\n",
       "      <td>24.46</td>\n",
       "      <td>31.48</td>\n",
       "    </tr>\n",
       "    <tr>\n",
       "      <th>...</th>\n",
       "      <td>...</td>\n",
       "      <td>...</td>\n",
       "      <td>...</td>\n",
       "      <td>...</td>\n",
       "    </tr>\n",
       "    <tr>\n",
       "      <th>6654</th>\n",
       "      <td>2023-01-30 10:08:23.042</td>\n",
       "      <td>504</td>\n",
       "      <td>24.30</td>\n",
       "      <td>16.70</td>\n",
       "    </tr>\n",
       "    <tr>\n",
       "      <th>6655</th>\n",
       "      <td>2023-01-30 10:10:10.951</td>\n",
       "      <td>501</td>\n",
       "      <td>24.31</td>\n",
       "      <td>16.66</td>\n",
       "    </tr>\n",
       "    <tr>\n",
       "      <th>6656</th>\n",
       "      <td>2023-01-30 10:11:58.876</td>\n",
       "      <td>552</td>\n",
       "      <td>24.30</td>\n",
       "      <td>16.94</td>\n",
       "    </tr>\n",
       "    <tr>\n",
       "      <th>6657</th>\n",
       "      <td>2023-01-30 10:13:45.516</td>\n",
       "      <td>559</td>\n",
       "      <td>24.30</td>\n",
       "      <td>16.80</td>\n",
       "    </tr>\n",
       "    <tr>\n",
       "      <th>6658</th>\n",
       "      <td>2023-01-30 10:15:32.515</td>\n",
       "      <td>521</td>\n",
       "      <td>24.31</td>\n",
       "      <td>16.80</td>\n",
       "    </tr>\n",
       "  </tbody>\n",
       "</table>\n",
       "<p>6659 rows × 4 columns</p>\n",
       "</div>"
      ],
      "text/plain": [
       "                   Date_Time  CO2_gas_lab  Temperature_gas_lab  \\\n",
       "0    2023-01-24 14:12:31.119            0                24.05   \n",
       "1    2023-01-24 14:13:31.110          593                24.20   \n",
       "2    2023-01-24 14:14:31.110          590                24.32   \n",
       "3    2023-01-24 14:15:31.098          597                24.39   \n",
       "4    2023-01-24 14:16:31.102          594                24.46   \n",
       "...                      ...          ...                  ...   \n",
       "6654 2023-01-30 10:08:23.042          504                24.30   \n",
       "6655 2023-01-30 10:10:10.951          501                24.31   \n",
       "6656 2023-01-30 10:11:58.876          552                24.30   \n",
       "6657 2023-01-30 10:13:45.516          559                24.30   \n",
       "6658 2023-01-30 10:15:32.515          521                24.31   \n",
       "\n",
       "      Humidity_gas_lab  \n",
       "0                32.57  \n",
       "1                32.06  \n",
       "2                31.96  \n",
       "3                31.79  \n",
       "4                31.48  \n",
       "...                ...  \n",
       "6654             16.70  \n",
       "6655             16.66  \n",
       "6656             16.94  \n",
       "6657             16.80  \n",
       "6658             16.80  \n",
       "\n",
       "[6659 rows x 4 columns]"
      ]
     },
     "execution_count": 16,
     "metadata": {},
     "output_type": "execute_result"
    }
   ],
   "source": [
    "df = pd.DataFrame()\n",
    "for file in file_list_co2:\n",
    "    temp_df = pd.read_csv(file, header=[1])\n",
    "    df = pd.concat([df, temp_df], axis=0)\n",
    "\n",
    "\n",
    "#remove columns w only na\n",
    "df= df.dropna(axis=1, how='all')\n",
    "\n",
    "#rename columns\n",
    "df= df.rename(columns= {\"Unnamed: 0\": \"Date_Time\", 'CO2': \"CO2_gas_lab\", 'Temperature': \"Temperature_gas_lab\", 'Humidity': \"Humidity_gas_lab\"})\n",
    "\n",
    "#make datetime column a datetime :) \n",
    "df\n",
    "\n",
    "\n",
    "df['Date_Time'] =  pd.to_datetime(df['Date_Time'])\n",
    "df"
   ]
  },
  {
   "cell_type": "code",
   "execution_count": 152,
   "id": "77e1c570-c5ef-4753-b09f-4960596a3cab",
   "metadata": {},
   "outputs": [],
   "source": [
    "#leave blank"
   ]
  },
  {
   "cell_type": "code",
   "execution_count": null,
   "id": "3a3b6421-946c-4126-9062-09a5f6500a17",
   "metadata": {},
   "outputs": [],
   "source": []
  },
  {
   "cell_type": "markdown",
   "id": "d7ebd688-f49d-4945-843a-369f88548cb4",
   "metadata": {},
   "source": [
    "## Read in all files from Questtemp"
   ]
  },
  {
   "cell_type": "code",
   "execution_count": 153,
   "id": "103968ab-0e1d-467a-9b60-0ed4bfbfa505",
   "metadata": {},
   "outputs": [
    {
     "name": "stdout",
     "output_type": "stream",
     "text": [
      "/Users/amandaworthy/CS4EVN/Data\n"
     ]
    }
   ],
   "source": [
    "!pwd"
   ]
  },
  {
   "cell_type": "code",
   "execution_count": 19,
   "id": "d203d44c-3799-48b9-8a21-c5c7c83570ec",
   "metadata": {},
   "outputs": [
    {
     "data": {
      "text/plain": [
       "['Timestamp',\n",
       " 'DryBulb',\n",
       " 'Globe',\n",
       " 'HeatIndex',\n",
       " 'Humidity',\n",
       " 'WBGTIn',\n",
       " 'WBGTOut',\n",
       " 'WetBulb']"
      ]
     },
     "execution_count": 19,
     "metadata": {},
     "output_type": "execute_result"
    }
   ],
   "source": [
    "#code to grab specific gaslab report\n",
    "\n",
    "two= pd.read_csv(\"QUESTTEMP_Reports/Allen 605/1_20_2023_Allen_2.csv\", header=[0])\n",
    "\n",
    "\n",
    "list(two.columns)"
   ]
  },
  {
   "cell_type": "code",
   "execution_count": 20,
   "id": "018be379-d1e0-4f54-8b36-e3705b2674aa",
   "metadata": {},
   "outputs": [
    {
     "data": {
      "text/html": [
       "<div>\n",
       "<style scoped>\n",
       "    .dataframe tbody tr th:only-of-type {\n",
       "        vertical-align: middle;\n",
       "    }\n",
       "\n",
       "    .dataframe tbody tr th {\n",
       "        vertical-align: top;\n",
       "    }\n",
       "\n",
       "    .dataframe thead th {\n",
       "        text-align: right;\n",
       "    }\n",
       "</style>\n",
       "<table border=\"1\" class=\"dataframe\">\n",
       "  <thead>\n",
       "    <tr style=\"text-align: right;\">\n",
       "      <th></th>\n",
       "      <th>Timestamp</th>\n",
       "      <th>DryBulb</th>\n",
       "      <th>Globe</th>\n",
       "      <th>HeatIndex</th>\n",
       "      <th>Humidity</th>\n",
       "      <th>WBGTIn</th>\n",
       "      <th>WBGTOut</th>\n",
       "      <th>WetBulb</th>\n",
       "    </tr>\n",
       "  </thead>\n",
       "  <tbody>\n",
       "    <tr>\n",
       "      <th>0</th>\n",
       "      <td>2023-01-18 17:21:00</td>\n",
       "      <td>23.0</td>\n",
       "      <td>23.8</td>\n",
       "      <td>21.9</td>\n",
       "      <td>32.5</td>\n",
       "      <td>17.1</td>\n",
       "      <td>17.0</td>\n",
       "      <td>14.2</td>\n",
       "    </tr>\n",
       "    <tr>\n",
       "      <th>1</th>\n",
       "      <td>2023-01-18 17:23:00</td>\n",
       "      <td>23.2</td>\n",
       "      <td>23.8</td>\n",
       "      <td>22.0</td>\n",
       "      <td>31.8</td>\n",
       "      <td>17.1</td>\n",
       "      <td>17.0</td>\n",
       "      <td>14.2</td>\n",
       "    </tr>\n",
       "    <tr>\n",
       "      <th>2</th>\n",
       "      <td>2023-01-18 17:25:00</td>\n",
       "      <td>23.3</td>\n",
       "      <td>23.7</td>\n",
       "      <td>22.0</td>\n",
       "      <td>31.6</td>\n",
       "      <td>17.1</td>\n",
       "      <td>17.0</td>\n",
       "      <td>14.2</td>\n",
       "    </tr>\n",
       "    <tr>\n",
       "      <th>3</th>\n",
       "      <td>2023-01-18 17:27:00</td>\n",
       "      <td>23.3</td>\n",
       "      <td>23.6</td>\n",
       "      <td>22.0</td>\n",
       "      <td>31.2</td>\n",
       "      <td>17.0</td>\n",
       "      <td>17.0</td>\n",
       "      <td>14.2</td>\n",
       "    </tr>\n",
       "    <tr>\n",
       "      <th>4</th>\n",
       "      <td>2023-01-18 17:29:00</td>\n",
       "      <td>23.4</td>\n",
       "      <td>23.6</td>\n",
       "      <td>22.0</td>\n",
       "      <td>31.0</td>\n",
       "      <td>17.0</td>\n",
       "      <td>17.0</td>\n",
       "      <td>14.2</td>\n",
       "    </tr>\n",
       "  </tbody>\n",
       "</table>\n",
       "</div>"
      ],
      "text/plain": [
       "            Timestamp  DryBulb  Globe  HeatIndex  Humidity  WBGTIn  WBGTOut  \\\n",
       "0 2023-01-18 17:21:00     23.0   23.8       21.9      32.5    17.1     17.0   \n",
       "1 2023-01-18 17:23:00     23.2   23.8       22.0      31.8    17.1     17.0   \n",
       "2 2023-01-18 17:25:00     23.3   23.7       22.0      31.6    17.1     17.0   \n",
       "3 2023-01-18 17:27:00     23.3   23.6       22.0      31.2    17.0     17.0   \n",
       "4 2023-01-18 17:29:00     23.4   23.6       22.0      31.0    17.0     17.0   \n",
       "\n",
       "   WetBulb  \n",
       "0     14.2  \n",
       "1     14.2  \n",
       "2     14.2  \n",
       "3     14.2  \n",
       "4     14.2  "
      ]
     },
     "execution_count": 20,
     "metadata": {},
     "output_type": "execute_result"
    }
   ],
   "source": [
    "two.head()\n",
    "\n",
    "#two.drop(two.tail(1851-1806).index,inplace=True)\n",
    "two['Timestamp'] =  pd.to_datetime(two['Timestamp'])\n",
    "\n",
    "two.head()"
   ]
  },
  {
   "cell_type": "code",
   "execution_count": 23,
   "id": "10c3ac37-4d01-40eb-a16a-25986e29b0b9",
   "metadata": {},
   "outputs": [
    {
     "data": {
      "text/plain": [
       "['/Users/amandaworthy/CS4EVN/Data/QUESTTEMP_Reports/Allen 605/1_20_2023_Allen_2.csv']"
      ]
     },
     "execution_count": 23,
     "metadata": {},
     "output_type": "execute_result"
    }
   ],
   "source": [
    "import os\n",
    "import pandas as pd\n",
    "import glob\n",
    "import openpyxl\n",
    "path_temp = os.path.abspath('QUESTTEMP_Reports/Allen 605/') \n",
    "files_temp = os.listdir(path_temp) \n",
    "file_list_temp = glob.glob(path_temp + \"/*.csv\")\n",
    "file_list_temp"
   ]
  },
  {
   "cell_type": "code",
   "execution_count": 24,
   "id": "dad9bb8a-5356-4bc6-9fd7-ed3364961ee6",
   "metadata": {},
   "outputs": [
    {
     "name": "stdout",
     "output_type": "stream",
     "text": [
      "/Users/amandaworthy/CS4EVN/Data/QUESTTEMP_Reports/Allen 605/1_20_2023_Allen_2.csv\n"
     ]
    }
   ],
   "source": [
    "#only have one df right now so haven't figured out full syntex \n",
    "\n",
    "df_temp = pd.DataFrame()\n",
    "for file in file_list_temp:\n",
    "    print(file)\n"
   ]
  },
  {
   "cell_type": "markdown",
   "id": "93b76549-a2de-4f71-9ae2-f0b6931572b0",
   "metadata": {},
   "source": [
    "## Merge the two df together from CO2 sensor and Tempoquest\n",
    "#### Merge by timestamp"
   ]
  },
  {
   "cell_type": "code",
   "execution_count": null,
   "id": "d4077d78-debe-40e8-bb6f-de7dcde70dab",
   "metadata": {},
   "outputs": [],
   "source": []
  }
 ],
 "metadata": {
  "kernelspec": {
   "display_name": "Python 3 (ipykernel)",
   "language": "python",
   "name": "python3"
  },
  "language_info": {
   "codemirror_mode": {
    "name": "ipython",
    "version": 3
   },
   "file_extension": ".py",
   "mimetype": "text/x-python",
   "name": "python",
   "nbconvert_exporter": "python",
   "pygments_lexer": "ipython3",
   "version": "3.9.12"
  }
 },
 "nbformat": 4,
 "nbformat_minor": 5
}
