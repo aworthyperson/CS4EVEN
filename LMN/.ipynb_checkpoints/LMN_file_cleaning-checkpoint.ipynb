{
 "cells": [
  {
   "cell_type": "markdown",
   "id": "2191c5d8-47a9-4762-bed2-74200f784120",
   "metadata": {},
   "source": [
    "## WAHOOO welcome to LMN File Cleaning "
   ]
  },
  {
   "cell_type": "code",
   "execution_count": 1,
   "id": "5cbdb9f0-bf46-4c8b-ae08-29e0d15b0770",
   "metadata": {},
   "outputs": [],
   "source": [
    "#import packages\n",
    "\n",
    "import numpy as np\n",
    "import matplotlib.pyplot as plt\n",
    "import pandas as pd\n",
    "import geopandas as gpd\n",
    "from shapely.geometry import Point, Polygon, box\n",
    "import fiona\n",
    "import pyproj\n",
    "import contextily as ctx\n",
    "import os\n",
    "import requests\n",
    "import matplotlib.ticker as ticker\n",
    "import scipy.stats as stats\n",
    "import matplotlib.pyplot as plt\n",
    "from matplotlib import pyplot\n",
    "from matplotlib.ticker import PercentFormatter\n",
    "import requests\n",
    "import matplotlib.colors as colors\n",
    "\n",
    "#%matplotlib widget\n",
    "%matplotlib inline"
   ]
  },
  {
   "cell_type": "code",
   "execution_count": null,
   "id": "3b9c35c8-0b85-4137-974f-9fe257df4473",
   "metadata": {},
   "outputs": [],
   "source": []
  }
 ],
 "metadata": {
  "kernelspec": {
   "display_name": "Python 3 (ipykernel)",
   "language": "python",
   "name": "python3"
  },
  "language_info": {
   "codemirror_mode": {
    "name": "ipython",
    "version": 3
   },
   "file_extension": ".py",
   "mimetype": "text/x-python",
   "name": "python",
   "nbconvert_exporter": "python",
   "pygments_lexer": "ipython3",
   "version": "3.9.12"
  }
 },
 "nbformat": 4,
 "nbformat_minor": 5
}
