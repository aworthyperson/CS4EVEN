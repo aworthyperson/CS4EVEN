{
 "cells": [
  {
   "cell_type": "markdown",
   "id": "2191c5d8-47a9-4762-bed2-74200f784120",
   "metadata": {},
   "source": [
    "## WAHOOO welcome to LMN File Cleaning "
   ]
  },
  {
   "cell_type": "code",
   "execution_count": 1,
   "id": "5cbdb9f0-bf46-4c8b-ae08-29e0d15b0770",
   "metadata": {},
   "outputs": [],
   "source": [
    "#import packages\n",
    "\n",
    "import numpy as np\n",
    "import matplotlib.pyplot as plt\n",
    "import pandas as pd\n",
    "import geopandas as gpd\n",
    "from shapely.geometry import Point, Polygon, box\n",
    "import fiona\n",
    "import pyproj\n",
    "import contextily as ctx\n",
    "import os\n",
    "import requests\n",
    "import matplotlib.ticker as ticker\n",
    "import scipy.stats as stats\n",
    "import matplotlib.pyplot as plt\n",
    "from matplotlib import pyplot\n",
    "from matplotlib.ticker import PercentFormatter\n",
    "import requests\n",
    "import matplotlib.colors as colors\n",
    "\n",
    "#%matplotlib widget\n",
    "%matplotlib inline"
   ]
  },
  {
   "cell_type": "code",
   "execution_count": 2,
   "id": "542858e9-325d-4b96-976a-809847a7efe1",
   "metadata": {},
   "outputs": [
    {
     "name": "stdout",
     "output_type": "stream",
     "text": [
      "CSE2_Deployment1_Locations.jpg\n",
      "CSE2_Deployment2_Locations.jpg\n",
      "LMN_file_cleaning.ipynb\n",
      "PODDs_CSE2_Deployment1.csv\n",
      "PODDs_CSE2_Deployment1_PostCalibration.csv\n",
      "PODDs_CSE2_Deployment1_PreCalibration.csv\n",
      "PODDs_CSE2_Deployment2.csv\n",
      "PODDs_CSE2_Deployment2_PreCalibration.csv\n",
      "README.txt\n"
     ]
    }
   ],
   "source": [
    "!ls"
   ]
  },
  {
   "cell_type": "code",
   "execution_count": 7,
   "id": "3b9c35c8-0b85-4137-974f-9fe257df4473",
   "metadata": {},
   "outputs": [
    {
     "data": {
      "text/plain": [
       "['/Users/amandaworthy/CS4EVEN/LMN/PODDs_CSE2_Deployment1.csv',\n",
       " '/Users/amandaworthy/CS4EVEN/LMN/PODDs_CSE2_Deployment2.csv',\n",
       " '/Users/amandaworthy/CS4EVEN/LMN/PODDs_CSE2_Deployment1_PreCalibration.csv',\n",
       " '/Users/amandaworthy/CS4EVEN/LMN/PODDs_CSE2_Deployment2_PreCalibration.csv',\n",
       " '/Users/amandaworthy/CS4EVEN/LMN/PODDs_CSE2_Deployment1_PostCalibration.csv']"
      ]
     },
     "execution_count": 7,
     "metadata": {},
     "output_type": "execute_result"
    }
   ],
   "source": [
    "import os\n",
    "import pandas as pd\n",
    "import glob\n",
    "import openpyxl\n",
    "path = os.path.abspath('') \n",
    "files = os.listdir(path) \n",
    "file_list = glob.glob(path + \"/*.csv\")\n",
    "file_list"
   ]
  },
  {
   "cell_type": "code",
   "execution_count": null,
   "id": "497d750f-5fb5-4123-832e-9f805ec15871",
   "metadata": {},
   "outputs": [],
   "source": []
  },
  {
   "cell_type": "code",
   "execution_count": null,
   "id": "340925f9-c801-4002-bd17-f2950ad30d1c",
   "metadata": {},
   "outputs": [],
   "source": []
  },
  {
   "cell_type": "code",
   "execution_count": null,
   "id": "7b20a796-3470-4fd1-88b8-2a7e41cefad0",
   "metadata": {},
   "outputs": [],
   "source": []
  },
  {
   "cell_type": "code",
   "execution_count": null,
   "id": "c2a9a9e0-2a01-405e-a079-89672067c7dd",
   "metadata": {},
   "outputs": [],
   "source": []
  }
 ],
 "metadata": {
  "kernelspec": {
   "display_name": "Python 3 (ipykernel)",
   "language": "python",
   "name": "python3"
  },
  "language_info": {
   "codemirror_mode": {
    "name": "ipython",
    "version": 3
   },
   "file_extension": ".py",
   "mimetype": "text/x-python",
   "name": "python",
   "nbconvert_exporter": "python",
   "pygments_lexer": "ipython3",
   "version": "3.9.12"
  }
 },
 "nbformat": 4,
 "nbformat_minor": 5
}
