{
 "cells": [
  {
   "cell_type": "markdown",
   "id": "2ec8cfea-cfe0-4351-9dc3-983ae789009e",
   "metadata": {},
   "source": [
    "## This notebook will examine the Outdoor Temperature Measurments from the UW ATMS Building \n",
    "\n",
    "https://mesowest.utah.edu/cgi-bin/droman/download_api2.cgi?stn=UWASH&hour1=20&min1=48&timetype=LOCAL&unit=0&graph=0"
   ]
  },
  {
   "cell_type": "code",
   "execution_count": 77,
   "id": "cce366ab-d90b-4c99-80c1-d67dad0d13c6",
   "metadata": {},
   "outputs": [],
   "source": [
    "#import packages\n",
    "\n",
    "\n",
    "import numpy as np\n",
    "import matplotlib.pyplot as plt\n",
    "import pandas as pd\n",
    "#import geopandas as gpd\n",
    "#from shapely.geometry import Point, Polygon, box\n",
    "#import fiona\n",
    "#import pyproj\n",
    "#import contextily as ctx\n",
    "import os\n",
    "import requests\n",
    "import matplotlib.ticker as ticker\n",
    "import scipy.stats as stats\n",
    "import matplotlib.pyplot as plt\n",
    "from matplotlib import pyplot\n",
    "from matplotlib.ticker import PercentFormatter\n",
    "import requests\n",
    "import matplotlib.colors as colors\n",
    "\n",
    "#%matplotlib widget\n",
    "%matplotlib inline"
   ]
  },
  {
   "cell_type": "code",
   "execution_count": 78,
   "id": "e9cdd063-64dc-4b01-9321-c63c3af68647",
   "metadata": {},
   "outputs": [
    {
     "name": "stdout",
     "output_type": "stream",
     "text": [
      "Outdoor ATMSDATA.ipynb       UWASH.2023-01-31.csv\n",
      "UWASH.2022-02-12.csv         UWASH_cleaned_2023-01-31.csv\n",
      "UWASH.2022-10-24.csv         UWASH_new_sheet_per_yr.xlsx\n"
     ]
    }
   ],
   "source": [
    "!ls"
   ]
  },
  {
   "cell_type": "code",
   "execution_count": 61,
   "id": "a3630f81-acaa-42d7-887c-f1cb1b7eb59b",
   "metadata": {},
   "outputs": [
    {
     "name": "stdout",
     "output_type": "stream",
     "text": [
      "/Users/amandaworthy/CS4EVN/UWASH Outdoor Data\n"
     ]
    }
   ],
   "source": [
    "!pwd"
   ]
  },
  {
   "cell_type": "code",
   "execution_count": 62,
   "id": "2a7e6eab-5678-4bd6-a6b6-3242386c2696",
   "metadata": {},
   "outputs": [
    {
     "data": {
      "text/html": [
       "<div>\n",
       "<style scoped>\n",
       "    .dataframe tbody tr th:only-of-type {\n",
       "        vertical-align: middle;\n",
       "    }\n",
       "\n",
       "    .dataframe tbody tr th {\n",
       "        vertical-align: top;\n",
       "    }\n",
       "\n",
       "    .dataframe thead th {\n",
       "        text-align: right;\n",
       "    }\n",
       "</style>\n",
       "<table border=\"1\" class=\"dataframe\">\n",
       "  <thead>\n",
       "    <tr style=\"text-align: right;\">\n",
       "      <th></th>\n",
       "      <th>Station_ID</th>\n",
       "      <th>Date_Time</th>\n",
       "      <th>air_temp_set_1</th>\n",
       "      <th>relative_humidity_set_1</th>\n",
       "      <th>wind_speed_set_1</th>\n",
       "      <th>wind_direction_set_1</th>\n",
       "      <th>wind_gust_set_1</th>\n",
       "      <th>precip_accum_set_1</th>\n",
       "      <th>sea_level_pressure_set_1</th>\n",
       "      <th>dew_point_temperature_set_1d</th>\n",
       "      <th>wind_chill_set_1d</th>\n",
       "      <th>wind_cardinal_direction_set_1d</th>\n",
       "      <th>heat_index_set_1d</th>\n",
       "    </tr>\n",
       "  </thead>\n",
       "  <tbody>\n",
       "    <tr>\n",
       "      <th>0</th>\n",
       "      <td>NaN</td>\n",
       "      <td>NaN</td>\n",
       "      <td>Celsius</td>\n",
       "      <td>%</td>\n",
       "      <td>m/s</td>\n",
       "      <td>Degrees</td>\n",
       "      <td>m/s</td>\n",
       "      <td>Millimeters</td>\n",
       "      <td>Pascals</td>\n",
       "      <td>Celsius</td>\n",
       "      <td>Celsius</td>\n",
       "      <td>code</td>\n",
       "      <td>Celsius</td>\n",
       "    </tr>\n",
       "    <tr>\n",
       "      <th>1</th>\n",
       "      <td>UWASH</td>\n",
       "      <td>2023-01-01T12:55:00Z</td>\n",
       "      <td>5.56</td>\n",
       "      <td>100.0</td>\n",
       "      <td>0.0</td>\n",
       "      <td>82.0</td>\n",
       "      <td>0.0</td>\n",
       "      <td>0.0</td>\n",
       "      <td>101900.0</td>\n",
       "      <td>5.56</td>\n",
       "      <td>NaN</td>\n",
       "      <td>E</td>\n",
       "      <td>NaN</td>\n",
       "    </tr>\n",
       "    <tr>\n",
       "      <th>2</th>\n",
       "      <td>UWASH</td>\n",
       "      <td>2023-01-01T13:55:00Z</td>\n",
       "      <td>6.11</td>\n",
       "      <td>100.0</td>\n",
       "      <td>1.03</td>\n",
       "      <td>311.0</td>\n",
       "      <td>1.03</td>\n",
       "      <td>0.0</td>\n",
       "      <td>101950.0</td>\n",
       "      <td>6.11</td>\n",
       "      <td>NaN</td>\n",
       "      <td>NW</td>\n",
       "      <td>NaN</td>\n",
       "    </tr>\n",
       "    <tr>\n",
       "      <th>3</th>\n",
       "      <td>UWASH</td>\n",
       "      <td>2023-01-01T14:55:00Z</td>\n",
       "      <td>6.11</td>\n",
       "      <td>100.0</td>\n",
       "      <td>0.0</td>\n",
       "      <td>352.0</td>\n",
       "      <td>1.03</td>\n",
       "      <td>0.0</td>\n",
       "      <td>101990.0</td>\n",
       "      <td>6.11</td>\n",
       "      <td>NaN</td>\n",
       "      <td>N</td>\n",
       "      <td>NaN</td>\n",
       "    </tr>\n",
       "    <tr>\n",
       "      <th>4</th>\n",
       "      <td>UWASH</td>\n",
       "      <td>2023-01-01T15:55:00Z</td>\n",
       "      <td>6.11</td>\n",
       "      <td>100.0</td>\n",
       "      <td>0.0</td>\n",
       "      <td>90.0</td>\n",
       "      <td>0.51</td>\n",
       "      <td>0.0</td>\n",
       "      <td>101960.0</td>\n",
       "      <td>6.11</td>\n",
       "      <td>NaN</td>\n",
       "      <td>E</td>\n",
       "      <td>NaN</td>\n",
       "    </tr>\n",
       "  </tbody>\n",
       "</table>\n",
       "</div>"
      ],
      "text/plain": [
       "  Station_ID             Date_Time air_temp_set_1 relative_humidity_set_1  \\\n",
       "0        NaN                   NaN        Celsius                       %   \n",
       "1      UWASH  2023-01-01T12:55:00Z           5.56                   100.0   \n",
       "2      UWASH  2023-01-01T13:55:00Z           6.11                   100.0   \n",
       "3      UWASH  2023-01-01T14:55:00Z           6.11                   100.0   \n",
       "4      UWASH  2023-01-01T15:55:00Z           6.11                   100.0   \n",
       "\n",
       "  wind_speed_set_1 wind_direction_set_1 wind_gust_set_1 precip_accum_set_1  \\\n",
       "0              m/s              Degrees             m/s        Millimeters   \n",
       "1              0.0                 82.0             0.0                0.0   \n",
       "2             1.03                311.0            1.03                0.0   \n",
       "3              0.0                352.0            1.03                0.0   \n",
       "4              0.0                 90.0            0.51                0.0   \n",
       "\n",
       "  sea_level_pressure_set_1 dew_point_temperature_set_1d wind_chill_set_1d  \\\n",
       "0                  Pascals                      Celsius           Celsius   \n",
       "1                 101900.0                         5.56               NaN   \n",
       "2                 101950.0                         6.11               NaN   \n",
       "3                 101990.0                         6.11               NaN   \n",
       "4                 101960.0                         6.11               NaN   \n",
       "\n",
       "  wind_cardinal_direction_set_1d heat_index_set_1d  \n",
       "0                           code           Celsius  \n",
       "1                              E               NaN  \n",
       "2                             NW               NaN  \n",
       "3                              N               NaN  \n",
       "4                              E               NaN  "
      ]
     },
     "execution_count": 62,
     "metadata": {},
     "output_type": "execute_result"
    }
   ],
   "source": [
    "UWASH= pd.read_csv(\"UWASH.2023-01-31.csv\", sep=',', header=[10])\n",
    "UWASH.head()"
   ]
  },
  {
   "cell_type": "code",
   "execution_count": 63,
   "id": "58671560-2439-4733-95ef-58a8c3e60540",
   "metadata": {},
   "outputs": [
    {
     "data": {
      "text/plain": [
       "['Date_Time',\n",
       " 'air_temp_set_1',\n",
       " 'relative_humidity_set_1',\n",
       " 'wind_speed_set_1',\n",
       " 'wind_direction_set_1',\n",
       " 'wind_gust_set_1',\n",
       " 'precip_accum_set_1',\n",
       " 'sea_level_pressure_set_1',\n",
       " 'dew_point_temperature_set_1d',\n",
       " 'wind_chill_set_1d',\n",
       " 'wind_cardinal_direction_set_1d',\n",
       " 'heat_index_set_1d']"
      ]
     },
     "execution_count": 63,
     "metadata": {},
     "output_type": "execute_result"
    }
   ],
   "source": [
    "UWASH= UWASH.drop(['Station_ID'], axis=1)\n",
    "list(UWASH.columns)\n"
   ]
  },
  {
   "cell_type": "code",
   "execution_count": 64,
   "id": "2637488a-3b9f-439e-a869-1b33ae59eb30",
   "metadata": {},
   "outputs": [],
   "source": [
    "#drop units \n",
    "UWASH= UWASH.drop(0,axis=0)\n",
    "UWASH.head()\n",
    "\n",
    "UWASH.Date_Time= pd.to_datetime(UWASH.Date_Time)\n",
    "UWASH['Date_Time']= UWASH['Date_Time']"
   ]
  },
  {
   "cell_type": "code",
   "execution_count": 66,
   "id": "82332678-5098-419b-885d-86ebc1b1516c",
   "metadata": {},
   "outputs": [
    {
     "data": {
      "text/html": [
       "<div>\n",
       "<style scoped>\n",
       "    .dataframe tbody tr th:only-of-type {\n",
       "        vertical-align: middle;\n",
       "    }\n",
       "\n",
       "    .dataframe tbody tr th {\n",
       "        vertical-align: top;\n",
       "    }\n",
       "\n",
       "    .dataframe thead th {\n",
       "        text-align: right;\n",
       "    }\n",
       "</style>\n",
       "<table border=\"1\" class=\"dataframe\">\n",
       "  <thead>\n",
       "    <tr style=\"text-align: right;\">\n",
       "      <th></th>\n",
       "      <th>Date_Time</th>\n",
       "      <th>air_temp_set_1</th>\n",
       "      <th>relative_humidity_set_1</th>\n",
       "      <th>wind_speed_set_1</th>\n",
       "      <th>wind_direction_set_1</th>\n",
       "      <th>wind_gust_set_1</th>\n",
       "      <th>precip_accum_set_1</th>\n",
       "      <th>sea_level_pressure_set_1</th>\n",
       "      <th>dew_point_temperature_set_1d</th>\n",
       "      <th>wind_chill_set_1d</th>\n",
       "      <th>wind_cardinal_direction_set_1d</th>\n",
       "    </tr>\n",
       "  </thead>\n",
       "  <tbody>\n",
       "    <tr>\n",
       "      <th>1</th>\n",
       "      <td>2023-01-01 12:55:00+00:00</td>\n",
       "      <td>5.56</td>\n",
       "      <td>100.0</td>\n",
       "      <td>0.00</td>\n",
       "      <td>82.0</td>\n",
       "      <td>0.00</td>\n",
       "      <td>0.0</td>\n",
       "      <td>101900.0</td>\n",
       "      <td>5.56</td>\n",
       "      <td>NaN</td>\n",
       "      <td>E</td>\n",
       "    </tr>\n",
       "    <tr>\n",
       "      <th>2</th>\n",
       "      <td>2023-01-01 13:55:00+00:00</td>\n",
       "      <td>6.11</td>\n",
       "      <td>100.0</td>\n",
       "      <td>1.03</td>\n",
       "      <td>311.0</td>\n",
       "      <td>1.03</td>\n",
       "      <td>0.0</td>\n",
       "      <td>101950.0</td>\n",
       "      <td>6.11</td>\n",
       "      <td>NaN</td>\n",
       "      <td>NW</td>\n",
       "    </tr>\n",
       "    <tr>\n",
       "      <th>3</th>\n",
       "      <td>2023-01-01 14:55:00+00:00</td>\n",
       "      <td>6.11</td>\n",
       "      <td>100.0</td>\n",
       "      <td>0.00</td>\n",
       "      <td>352.0</td>\n",
       "      <td>1.03</td>\n",
       "      <td>0.0</td>\n",
       "      <td>101990.0</td>\n",
       "      <td>6.11</td>\n",
       "      <td>NaN</td>\n",
       "      <td>N</td>\n",
       "    </tr>\n",
       "    <tr>\n",
       "      <th>4</th>\n",
       "      <td>2023-01-01 15:55:00+00:00</td>\n",
       "      <td>6.11</td>\n",
       "      <td>100.0</td>\n",
       "      <td>0.00</td>\n",
       "      <td>90.0</td>\n",
       "      <td>0.51</td>\n",
       "      <td>0.0</td>\n",
       "      <td>101960.0</td>\n",
       "      <td>6.11</td>\n",
       "      <td>NaN</td>\n",
       "      <td>E</td>\n",
       "    </tr>\n",
       "    <tr>\n",
       "      <th>5</th>\n",
       "      <td>2023-01-01 16:55:00+00:00</td>\n",
       "      <td>6.11</td>\n",
       "      <td>100.0</td>\n",
       "      <td>0.51</td>\n",
       "      <td>313.0</td>\n",
       "      <td>1.03</td>\n",
       "      <td>0.0</td>\n",
       "      <td>102050.0</td>\n",
       "      <td>6.11</td>\n",
       "      <td>NaN</td>\n",
       "      <td>NW</td>\n",
       "    </tr>\n",
       "  </tbody>\n",
       "</table>\n",
       "</div>"
      ],
      "text/plain": [
       "                  Date_Time  air_temp_set_1  relative_humidity_set_1  \\\n",
       "1 2023-01-01 12:55:00+00:00            5.56                    100.0   \n",
       "2 2023-01-01 13:55:00+00:00            6.11                    100.0   \n",
       "3 2023-01-01 14:55:00+00:00            6.11                    100.0   \n",
       "4 2023-01-01 15:55:00+00:00            6.11                    100.0   \n",
       "5 2023-01-01 16:55:00+00:00            6.11                    100.0   \n",
       "\n",
       "   wind_speed_set_1  wind_direction_set_1  wind_gust_set_1  \\\n",
       "1              0.00                  82.0             0.00   \n",
       "2              1.03                 311.0             1.03   \n",
       "3              0.00                 352.0             1.03   \n",
       "4              0.00                  90.0             0.51   \n",
       "5              0.51                 313.0             1.03   \n",
       "\n",
       "   precip_accum_set_1  sea_level_pressure_set_1  dew_point_temperature_set_1d  \\\n",
       "1                 0.0                  101900.0                          5.56   \n",
       "2                 0.0                  101950.0                          6.11   \n",
       "3                 0.0                  101990.0                          6.11   \n",
       "4                 0.0                  101960.0                          6.11   \n",
       "5                 0.0                  102050.0                          6.11   \n",
       "\n",
       "   wind_chill_set_1d wind_cardinal_direction_set_1d  \n",
       "1                NaN                              E  \n",
       "2                NaN                             NW  \n",
       "3                NaN                              N  \n",
       "4                NaN                              E  \n",
       "5                NaN                             NW  "
      ]
     },
     "execution_count": 66,
     "metadata": {},
     "output_type": "execute_result"
    }
   ],
   "source": [
    "#convert all to numbers besides the wind, station, date\n",
    "\n",
    "cols = UWASH.columns.drop(['Date_Time','wind_cardinal_direction_set_1d'])\n",
    "#cols = UWASH.columns.drop(['Date_Time'])\n",
    "\n",
    "UWASH[cols] = UWASH[cols].apply(pd.to_numeric, errors='coerce')\n",
    "\n",
    "UWASH= UWASH.dropna(axis=1, how='all')\n",
    "UWASH.head(5)\n"
   ]
  },
  {
   "cell_type": "code",
   "execution_count": 67,
   "id": "99e47b9b-a439-47e6-9610-fcff4d39170b",
   "metadata": {},
   "outputs": [
    {
     "name": "stdout",
     "output_type": "stream",
     "text": [
      "<class 'pandas.core.frame.DataFrame'>\n",
      "Int64Index: 710 entries, 1 to 710\n",
      "Data columns (total 11 columns):\n",
      " #   Column                          Non-Null Count  Dtype              \n",
      "---  ------                          --------------  -----              \n",
      " 0   Date_Time                       710 non-null    datetime64[ns, UTC]\n",
      " 1   air_temp_set_1                  710 non-null    float64            \n",
      " 2   relative_humidity_set_1         710 non-null    float64            \n",
      " 3   wind_speed_set_1                710 non-null    float64            \n",
      " 4   wind_direction_set_1            710 non-null    float64            \n",
      " 5   wind_gust_set_1                 710 non-null    float64            \n",
      " 6   precip_accum_set_1              339 non-null    float64            \n",
      " 7   sea_level_pressure_set_1        710 non-null    float64            \n",
      " 8   dew_point_temperature_set_1d    710 non-null    float64            \n",
      " 9   wind_chill_set_1d               1 non-null      float64            \n",
      " 10  wind_cardinal_direction_set_1d  710 non-null    object             \n",
      "dtypes: datetime64[ns, UTC](1), float64(9), object(1)\n",
      "memory usage: 66.6+ KB\n"
     ]
    }
   ],
   "source": [
    "UWASH.info()"
   ]
  },
  {
   "cell_type": "code",
   "execution_count": 68,
   "id": "cb46563a-70ce-4b2c-86e6-28ff713e3d5f",
   "metadata": {},
   "outputs": [
    {
     "name": "stdout",
     "output_type": "stream",
     "text": [
      "<class 'pandas.core.frame.DataFrame'>\n",
      "Int64Index: 710 entries, 1 to 710\n",
      "Data columns (total 11 columns):\n",
      " #   Column                       Non-Null Count  Dtype              \n",
      "---  ------                       --------------  -----              \n",
      " 0   Timestamp                    710 non-null    datetime64[ns, UTC]\n",
      " 1   outdoor_air_temp_C           710 non-null    float64            \n",
      " 2   outdoor_relative_humidity_%  710 non-null    float64            \n",
      " 3   outdoor_wind_speed_mpers     710 non-null    float64            \n",
      " 4   outdoor_wind_direction_deg   710 non-null    float64            \n",
      " 5   Outdoor_wind_gust_mpers      710 non-null    float64            \n",
      " 6   precip_accum_mm              339 non-null    float64            \n",
      " 7   sea_level_pressure_pascals   710 non-null    float64            \n",
      " 8   dew_point_temperature_C      710 non-null    float64            \n",
      " 9   outdoor_wind_chill_C         1 non-null      float64            \n",
      " 10  wind_cardinal_direction      710 non-null    object             \n",
      "dtypes: datetime64[ns, UTC](1), float64(9), object(1)\n",
      "memory usage: 66.6+ KB\n"
     ]
    }
   ],
   "source": [
    "UWASH= UWASH.rename(columns= {\"Date_Time\": \"Timestamp\", 'air_temp_set_1': \"outdoor_air_temp_C\", 'relative_humidity_set_1': \"outdoor_relative_humidity_%\", 'wind_chill_set_1d': \"outdoor_wind_chill_C\", 'heat_index_set_1d': \"heat_index_C\", \"wind_speed_set_1\": \"outdoor_wind_speed_mpers\", \n",
    "                             \"wind_direction_set_1\": \"outdoor_wind_direction_deg\", \"wind_gust_set_1\": \"Outdoor_wind_gust_mpers\",\"precip_accum_set_1\" : \"precip_accum_mm\",\"sea_level_pressure_set_1\": \"sea_level_pressure_pascals\", \"dew_point_temperature_set_1d\": \"dew_point_temperature_C\",  \"wind_cardinal_direction_set_1d\": \"wind_cardinal_direction\"   })\n",
    "\n",
    "UWASH.info()"
   ]
  },
  {
   "cell_type": "code",
   "execution_count": 69,
   "id": "1a7b42d3-9a31-416c-b0b5-d2c774accd5a",
   "metadata": {},
   "outputs": [],
   "source": [
    "#remove timezone bc excel doesnt like that \n",
    "\n",
    "#UWASH['Date_Time']= UWASH['Date_Time'].dt.tz_localize(None)"
   ]
  },
  {
   "cell_type": "code",
   "execution_count": 76,
   "id": "07aa82d9-4a6f-4a82-ba59-c51b60cd88e3",
   "metadata": {},
   "outputs": [],
   "source": [
    "#uncomment out when want to minipulate data \n",
    "\n",
    "#UWASH.to_csv('UWASH_cleaned_2023-01-31.csv', index=False)"
   ]
  },
  {
   "cell_type": "markdown",
   "id": "c491ea5b-ca53-4bf8-9941-9a3841cea706",
   "metadata": {},
   "source": [
    "with pd.ExcelWriter(\"UWASH_new_sheet_per_yr.xlsx\") as writer:\n",
    "    for date, data in UWASH.groupby(UWASH['Date_Time'].dt.strftime('%Y')):\n",
    "        data.to_excel(writer, sheet_name = date.replace('/', '_'), index=False)"
   ]
  },
  {
   "cell_type": "code",
   "execution_count": 71,
   "id": "46f0f91a-e0d9-4167-91e7-b2b22126bf63",
   "metadata": {},
   "outputs": [
    {
     "name": "stdout",
     "output_type": "stream",
     "text": [
      "<class 'pandas.core.frame.DataFrame'>\n",
      "Int64Index: 710 entries, 1 to 710\n",
      "Data columns (total 11 columns):\n",
      " #   Column                       Non-Null Count  Dtype              \n",
      "---  ------                       --------------  -----              \n",
      " 0   Timestamp                    710 non-null    datetime64[ns, UTC]\n",
      " 1   outdoor_air_temp_C           710 non-null    float64            \n",
      " 2   outdoor_relative_humidity_%  710 non-null    float64            \n",
      " 3   outdoor_wind_speed_mpers     710 non-null    float64            \n",
      " 4   outdoor_wind_direction_deg   710 non-null    float64            \n",
      " 5   Outdoor_wind_gust_mpers      710 non-null    float64            \n",
      " 6   precip_accum_mm              339 non-null    float64            \n",
      " 7   sea_level_pressure_pascals   710 non-null    float64            \n",
      " 8   dew_point_temperature_C      710 non-null    float64            \n",
      " 9   outdoor_wind_chill_C         1 non-null      float64            \n",
      " 10  wind_cardinal_direction      710 non-null    object             \n",
      "dtypes: datetime64[ns, UTC](1), float64(9), object(1)\n",
      "memory usage: 66.6+ KB\n"
     ]
    }
   ],
   "source": [
    "UWASH.info()"
   ]
  },
  {
   "cell_type": "code",
   "execution_count": 75,
   "id": "d43d6e6e-0715-49c0-8dc1-e8ed5fa4c5dd",
   "metadata": {},
   "outputs": [
    {
     "data": {
      "image/png": "[encoded data removed]",
      "text/plain": [
       "<Figure size 1296x720 with 1 Axes>"
      ]
     },
     "metadata": {
      "needs_background": "light"
     },
     "output_type": "display_data"
    }
   ],
   "source": [
    "fig,ax = plt.subplots(figsize=(18,10))\n",
    "\n",
    "ax.set_title('Hourly Outdoor Temperature (C)')\n",
    "\n",
    "UWASH.plot(x='Timestamp', y='outdoor_air_temp_C',color='k', markerfacecolor='white', ax=ax)\n",
    "\n",
    "ax.set_xlabel(\"Time\",fontsize=14)\n",
    "\n",
    "ax.set_ylabel(\"Hourly Outdoor Temperature (C)\",color='k',fontsize=14);\n",
    "\n",
    "#UWASH.plot(x='Date_Time', y='relative_humidity_set_1', color='dodgerblue', marker='*', markerfacecolor='white', ax=ax2)\n",
    "\n",
    "#ax2.set_ylabel(\"Hourly Relative Humidity (%)\",fontsize=14, color='dodgerblue');\n",
    "#ax2.get_legend().remove()\n",
    "#ax.get_legend().remove()\n",
    "#ax2.invert_yaxis()\n",
    "#ax2.set_ylim(-20,30)\n",
    "\n",
    "#plt.show();"
   ]
  },
  {
   "cell_type": "raw",
   "id": "99fb581c-7bf9-476a-8ecd-6d72e735de8a",
   "metadata": {},
   "source": [
    "fig, (ax1, ax2) = plt.subplots(nrows=2, ncols=1, figsize=(16,6))\n",
    "\n",
    "x1 = UWASH['Date_Time']\n",
    "y1 = UWASH['air_temp_set_1']\n",
    "\n",
    "ax1.plot(x1, y1, label = \"Air Temperature\", color='c', markerfacecolor='white')\n",
    "\n",
    "\n",
    "\n",
    "#Axis Labels \n",
    "ax1.set_ylabel('Air Temperature (C)')\n",
    "\n",
    "\n",
    "x2 = UWASH['Date_Time']\n",
    "y2 = UWASH['relative_humidity_set_1']\n",
    "\n",
    "ax2.plot(x2, y2, label = \"Relative Humidity\", color='m',  markerfacecolor='white')\n",
    "\n",
    "#Axis Labels \n",
    "ax2.set_ylabel('Relative Humidity')\n",
    "#ax2.set_title('Monthy Mean Air Temperature at Pirbadet')\n",
    "\n",
    "\n",
    "x3 = UWASH['Date_Time']\n",
    "#y3 = UWASH['wind_speed_set_1']\n",
    "\n",
    "#ax3.plot(x3, y3, label = \"Wind Speed\", color='dodgerblue', markerfacecolor='white')\n",
    "\n",
    "\n",
    "#Axis Labels \n",
    "#ax3.set_ylabel('Wind Speed (m/s)')\n",
    "#ax3.set_xlabel('Date')\n",
    "#ax3.set_title('Monthy Degre Day at Pirbadet')\n",
    "# show a legend on the plot\n",
    "\n",
    "ax2.legend(loc='lower right')\n",
    "\n",
    "\n",
    "\n",
    "ax1.legend(loc='lower right')\n",
    "#ax3.legend(loc='lower right')\n",
    "\n",
    "\n",
    "x4 = UWASH['Date_Time']\n",
    "#y4 = UWASH['precip_accum_set_1']\n",
    "\n",
    "#ax4.plot(x4, y4, label = \"Percipitation\", color='g',  markerfacecolor='white')\n",
    "#axs.set_xlim(pd.Timestamp('2007-12-01 00:00'), pd.Timestamp('2022-05-01 00:00'))\n",
    "#ax4.set_xlim(pd.Timestamp('2014-11-01 00:00'), pd.Timestamp('2022-05-01 00:00'))\n",
    "\n",
    "\n",
    "#Axis Labels \n",
    "#ax4.set_ylabel('Percipitation (mm)')\n",
    "#ax4.set_xlabel('Date')\n",
    "\n",
    "\n",
    "# show a legend on the plot\n",
    "\n",
    "#ax4.legend(loc='lower right')\n",
    "\n",
    "# Display a figure.\n",
    "plt.show()"
   ]
  },
  {
   "cell_type": "code",
   "execution_count": null,
   "id": "ef6e19b9-b3b3-4615-b5bd-a7a4d871e27c",
   "metadata": {},
   "outputs": [],
   "source": []
  },
  {
   "cell_type": "code",
   "execution_count": null,
   "id": "b87ec7bc",
   "metadata": {},
   "outputs": [],
   "source": []
  },
  {
   "cell_type": "code",
   "execution_count": null,
   "id": "28f4a1a2",
   "metadata": {},
   "outputs": [],
   "source": []
  }
 ],
 "metadata": {
  "kernelspec": {
   "display_name": "Python 3 (ipykernel)",
   "language": "python",
   "name": "python3"
  },
  "language_info": {
   "codemirror_mode": {
    "name": "ipython",
    "version": 3
   },
   "file_extension": ".py",
   "mimetype": "text/x-python",
   "name": "python",
   "nbconvert_exporter": "python",
   "pygments_lexer": "ipython3",
   "version": "3.9.12"
  }
 },
 "nbformat": 4,
 "nbformat_minor": 5
}
