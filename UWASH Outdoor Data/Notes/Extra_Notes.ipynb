{
 "cells": [
  {
   "cell_type": "markdown",
   "id": "2ec8cfea-cfe0-4351-9dc3-983ae789009e",
   "metadata": {},
   "source": [
    "## This notebook will examine the Outdoor Temperature Measurments from the UW ATMS Building \n",
    "\n",
    "https://mesowest.utah.edu/cgi-bin/droman/download_api2.cgi?stn=UWASH&hour1=20&min1=48&timetype=LOCAL&unit=0&graph=0"
   ]
  },
  {
   "cell_type": "code",
   "execution_count": 15,
   "id": "cce366ab-d90b-4c99-80c1-d67dad0d13c6",
   "metadata": {},
   "outputs": [],
   "source": [
    "#import packages\n",
    "\n",
    "\n",
    "import numpy as np\n",
    "import matplotlib.pyplot as plt\n",
    "import pandas as pd\n",
    "#import geopandas as gpd\n",
    "#from shapely.geometry import Point, Polygon, box\n",
    "#import fiona\n",
    "#import pyproj\n",
    "#import contextily as ctx\n",
    "import os\n",
    "import requests\n",
    "import matplotlib.ticker as ticker\n",
    "import scipy.stats as stats\n",
    "import matplotlib.pyplot as plt\n",
    "from matplotlib import pyplot\n",
    "from matplotlib.ticker import PercentFormatter\n",
    "import requests\n",
    "import matplotlib.colors as colors\n",
    "\n",
    "#%matplotlib widget\n",
    "%matplotlib inline"
   ]
  },
  {
   "cell_type": "code",
   "execution_count": 16,
   "id": "e9cdd063-64dc-4b01-9321-c63c3af68647",
   "metadata": {},
   "outputs": [
    {
     "name": "stdout",
     "output_type": "stream",
     "text": [
      "KSEA.2023-02-06.csv    UWASH.2022-02-12.csv   UWASH.2023-01-31.csv\n",
      "Outdoor ATMSDATA.ipynb UWASH.2022-10-24.csv   UWASH.2023-02-06.csv\n"
     ]
    }
   ],
   "source": [
    "!ls"
   ]
  },
  {
   "cell_type": "code",
   "execution_count": 17,
   "id": "a3630f81-acaa-42d7-887c-f1cb1b7eb59b",
   "metadata": {},
   "outputs": [
    {
     "name": "stdout",
     "output_type": "stream",
     "text": [
      "/Users/amandaworthy/CS4EVN/UWASH Outdoor Data\n"
     ]
    }
   ],
   "source": [
    "!pwd"
   ]
  },
  {
   "cell_type": "code",
   "execution_count": 20,
   "id": "2a7e6eab-5678-4bd6-a6b6-3242386c2696",
   "metadata": {},
   "outputs": [
    {
     "data": {
      "text/html": [
       "<div>\n",
       "<style scoped>\n",
       "    .dataframe tbody tr th:only-of-type {\n",
       "        vertical-align: middle;\n",
       "    }\n",
       "\n",
       "    .dataframe tbody tr th {\n",
       "        vertical-align: top;\n",
       "    }\n",
       "\n",
       "    .dataframe thead th {\n",
       "        text-align: right;\n",
       "    }\n",
       "</style>\n",
       "<table border=\"1\" class=\"dataframe\">\n",
       "  <thead>\n",
       "    <tr style=\"text-align: right;\">\n",
       "      <th></th>\n",
       "      <th>Station_ID</th>\n",
       "      <th>Date_Time</th>\n",
       "      <th>air_temp_set_1</th>\n",
       "      <th>relative_humidity_set_1</th>\n",
       "      <th>wind_speed_set_1</th>\n",
       "      <th>wind_direction_set_1</th>\n",
       "      <th>wind_gust_set_1</th>\n",
       "      <th>precip_accum_set_1</th>\n",
       "    </tr>\n",
       "  </thead>\n",
       "  <tbody>\n",
       "    <tr>\n",
       "      <th>0</th>\n",
       "      <td>NaN</td>\n",
       "      <td>NaN</td>\n",
       "      <td>Celsius</td>\n",
       "      <td>%</td>\n",
       "      <td>m/s</td>\n",
       "      <td>Degrees</td>\n",
       "      <td>m/s</td>\n",
       "      <td>Millimeters</td>\n",
       "    </tr>\n",
       "    <tr>\n",
       "      <th>1</th>\n",
       "      <td>UWASH</td>\n",
       "      <td>2020-12-01T12:55:00Z</td>\n",
       "      <td>2.78</td>\n",
       "      <td>100.0</td>\n",
       "      <td>1.54</td>\n",
       "      <td>311.0</td>\n",
       "      <td>2.06</td>\n",
       "      <td>0.0</td>\n",
       "    </tr>\n",
       "    <tr>\n",
       "      <th>2</th>\n",
       "      <td>UWASH</td>\n",
       "      <td>2020-12-01T13:55:00Z</td>\n",
       "      <td>3.89</td>\n",
       "      <td>100.0</td>\n",
       "      <td>0.0</td>\n",
       "      <td>344.0</td>\n",
       "      <td>0.0</td>\n",
       "      <td>0.0</td>\n",
       "    </tr>\n",
       "    <tr>\n",
       "      <th>3</th>\n",
       "      <td>UWASH</td>\n",
       "      <td>2020-12-01T14:55:00Z</td>\n",
       "      <td>3.89</td>\n",
       "      <td>96.16</td>\n",
       "      <td>0.51</td>\n",
       "      <td>10.0</td>\n",
       "      <td>1.03</td>\n",
       "      <td>0.0</td>\n",
       "    </tr>\n",
       "    <tr>\n",
       "      <th>4</th>\n",
       "      <td>UWASH</td>\n",
       "      <td>2020-12-01T15:55:00Z</td>\n",
       "      <td>3.33</td>\n",
       "      <td>100.0</td>\n",
       "      <td>1.03</td>\n",
       "      <td>331.0</td>\n",
       "      <td>1.54</td>\n",
       "      <td>0.0</td>\n",
       "    </tr>\n",
       "  </tbody>\n",
       "</table>\n",
       "</div>"
      ],
      "text/plain": [
       "  Station_ID             Date_Time air_temp_set_1 relative_humidity_set_1  \\\n",
       "0        NaN                   NaN        Celsius                       %   \n",
       "1      UWASH  2020-12-01T12:55:00Z           2.78                   100.0   \n",
       "2      UWASH  2020-12-01T13:55:00Z           3.89                   100.0   \n",
       "3      UWASH  2020-12-01T14:55:00Z           3.89                   96.16   \n",
       "4      UWASH  2020-12-01T15:55:00Z           3.33                   100.0   \n",
       "\n",
       "  wind_speed_set_1 wind_direction_set_1 wind_gust_set_1 precip_accum_set_1  \n",
       "0              m/s              Degrees             m/s        Millimeters  \n",
       "1             1.54                311.0            2.06                0.0  \n",
       "2              0.0                344.0             0.0                0.0  \n",
       "3             0.51                 10.0            1.03                0.0  \n",
       "4             1.03                331.0            1.54                0.0  "
      ]
     },
     "execution_count": 20,
     "metadata": {},
     "output_type": "execute_result"
    }
   ],
   "source": [
    "UWASH= pd.read_csv(\"UWASH.2023-02-06.csv\", sep=',', header=[10])\n",
    "UWASH.head()"
   ]
  },
  {
   "cell_type": "code",
   "execution_count": 23,
   "id": "c7e7d708-7aa5-4eaa-bf84-d00ca7552a73",
   "metadata": {},
   "outputs": [
    {
     "name": "stderr",
     "output_type": "stream",
     "text": [
      "/var/folders/_0/wy7tb6qj0kn08q2vk43vjwb40000gn/T/ipykernel_70790/2792009054.py:1: DtypeWarning: Columns (2,3,4,5,6,7,8,9,10) have mixed types. Specify dtype option on import or set low_memory=False.\n",
      "  KSEA= pd.read_csv(\"KSEA.2023-02-06.csv\", sep=',', header=[10])\n"
     ]
    },
    {
     "data": {
      "text/html": [
       "<div>\n",
       "<style scoped>\n",
       "    .dataframe tbody tr th:only-of-type {\n",
       "        vertical-align: middle;\n",
       "    }\n",
       "\n",
       "    .dataframe tbody tr th {\n",
       "        vertical-align: top;\n",
       "    }\n",
       "\n",
       "    .dataframe thead th {\n",
       "        text-align: right;\n",
       "    }\n",
       "</style>\n",
       "<table border=\"1\" class=\"dataframe\">\n",
       "  <thead>\n",
       "    <tr style=\"text-align: right;\">\n",
       "      <th></th>\n",
       "      <th>Station_ID</th>\n",
       "      <th>Date_Time</th>\n",
       "      <th>air_temp_set_1</th>\n",
       "      <th>relative_humidity_set_1</th>\n",
       "      <th>wind_speed_set_1</th>\n",
       "      <th>wind_direction_set_1</th>\n",
       "      <th>wind_gust_set_1</th>\n",
       "      <th>precip_accum_one_hour_set_1</th>\n",
       "      <th>precip_accum_three_hour_set_1</th>\n",
       "      <th>precip_accum_six_hour_set_1</th>\n",
       "      <th>precip_accum_24_hour_set_1</th>\n",
       "    </tr>\n",
       "  </thead>\n",
       "  <tbody>\n",
       "    <tr>\n",
       "      <th>0</th>\n",
       "      <td>NaN</td>\n",
       "      <td>NaN</td>\n",
       "      <td>Celsius</td>\n",
       "      <td>%</td>\n",
       "      <td>m/s</td>\n",
       "      <td>Degrees</td>\n",
       "      <td>m/s</td>\n",
       "      <td>Millimeters</td>\n",
       "      <td>Millimeters</td>\n",
       "      <td>Millimeters</td>\n",
       "      <td>Millimeters</td>\n",
       "    </tr>\n",
       "    <tr>\n",
       "      <th>1</th>\n",
       "      <td>KSEA</td>\n",
       "      <td>2020-12-01T12:53:00Z</td>\n",
       "      <td>3.3</td>\n",
       "      <td>85.48</td>\n",
       "      <td>2.57</td>\n",
       "      <td>340.0</td>\n",
       "      <td>NaN</td>\n",
       "      <td>NaN</td>\n",
       "      <td>NaN</td>\n",
       "      <td>NaN</td>\n",
       "      <td>NaN</td>\n",
       "    </tr>\n",
       "    <tr>\n",
       "      <th>2</th>\n",
       "      <td>KSEA</td>\n",
       "      <td>2020-12-01T13:53:00Z</td>\n",
       "      <td>4.4</td>\n",
       "      <td>85.6</td>\n",
       "      <td>3.09</td>\n",
       "      <td>30.0</td>\n",
       "      <td>NaN</td>\n",
       "      <td>NaN</td>\n",
       "      <td>NaN</td>\n",
       "      <td>NaN</td>\n",
       "      <td>NaN</td>\n",
       "    </tr>\n",
       "    <tr>\n",
       "      <th>3</th>\n",
       "      <td>KSEA</td>\n",
       "      <td>2020-12-01T14:53:00Z</td>\n",
       "      <td>2.8</td>\n",
       "      <td>92.46</td>\n",
       "      <td>4.12</td>\n",
       "      <td>10.0</td>\n",
       "      <td>NaN</td>\n",
       "      <td>NaN</td>\n",
       "      <td>NaN</td>\n",
       "      <td>NaN</td>\n",
       "      <td>NaN</td>\n",
       "    </tr>\n",
       "    <tr>\n",
       "      <th>4</th>\n",
       "      <td>KSEA</td>\n",
       "      <td>2020-12-01T15:26:00Z</td>\n",
       "      <td>3.3</td>\n",
       "      <td>93.13</td>\n",
       "      <td>4.12</td>\n",
       "      <td>100.0</td>\n",
       "      <td>NaN</td>\n",
       "      <td>NaN</td>\n",
       "      <td>NaN</td>\n",
       "      <td>NaN</td>\n",
       "      <td>NaN</td>\n",
       "    </tr>\n",
       "  </tbody>\n",
       "</table>\n",
       "</div>"
      ],
      "text/plain": [
       "  Station_ID             Date_Time air_temp_set_1 relative_humidity_set_1  \\\n",
       "0        NaN                   NaN        Celsius                       %   \n",
       "1       KSEA  2020-12-01T12:53:00Z            3.3                   85.48   \n",
       "2       KSEA  2020-12-01T13:53:00Z            4.4                    85.6   \n",
       "3       KSEA  2020-12-01T14:53:00Z            2.8                   92.46   \n",
       "4       KSEA  2020-12-01T15:26:00Z            3.3                   93.13   \n",
       "\n",
       "  wind_speed_set_1 wind_direction_set_1 wind_gust_set_1  \\\n",
       "0              m/s              Degrees             m/s   \n",
       "1             2.57                340.0             NaN   \n",
       "2             3.09                 30.0             NaN   \n",
       "3             4.12                 10.0             NaN   \n",
       "4             4.12                100.0             NaN   \n",
       "\n",
       "  precip_accum_one_hour_set_1 precip_accum_three_hour_set_1  \\\n",
       "0                 Millimeters                   Millimeters   \n",
       "1                         NaN                           NaN   \n",
       "2                         NaN                           NaN   \n",
       "3                         NaN                           NaN   \n",
       "4                         NaN                           NaN   \n",
       "\n",
       "  precip_accum_six_hour_set_1 precip_accum_24_hour_set_1  \n",
       "0                 Millimeters                Millimeters  \n",
       "1                         NaN                        NaN  \n",
       "2                         NaN                        NaN  \n",
       "3                         NaN                        NaN  \n",
       "4                         NaN                        NaN  "
      ]
     },
     "execution_count": 23,
     "metadata": {},
     "output_type": "execute_result"
    }
   ],
   "source": [
    "KSEA= pd.read_csv(\"KSEA.2023-02-06.csv\", sep=',', header=[10])\n",
    "KSEA.head()"
   ]
  },
  {
   "cell_type": "code",
   "execution_count": 24,
   "id": "58671560-2439-4733-95ef-58a8c3e60540",
   "metadata": {},
   "outputs": [
    {
     "data": {
      "text/plain": [
       "['Date_Time',\n",
       " 'air_temp_set_1',\n",
       " 'relative_humidity_set_1',\n",
       " 'wind_speed_set_1',\n",
       " 'wind_direction_set_1',\n",
       " 'wind_gust_set_1',\n",
       " 'precip_accum_set_1']"
      ]
     },
     "execution_count": 24,
     "metadata": {},
     "output_type": "execute_result"
    }
   ],
   "source": [
    "UWASH= UWASH.drop(['Station_ID'], axis=1)\n",
    "list(UWASH.columns)\n"
   ]
  },
  {
   "cell_type": "code",
   "execution_count": 25,
   "id": "2637488a-3b9f-439e-a869-1b33ae59eb30",
   "metadata": {},
   "outputs": [],
   "source": [
    "#drop units \n",
    "UWASH= UWASH.drop(0,axis=0)\n",
    "UWASH.head()\n",
    "\n",
    "UWASH.Date_Time= pd.to_datetime(UWASH.Date_Time)\n",
    "UWASH['Date_Time']= UWASH['Date_Time']"
   ]
  },
  {
   "cell_type": "code",
   "execution_count": 26,
   "id": "82332678-5098-419b-885d-86ebc1b1516c",
   "metadata": {},
   "outputs": [
    {
     "data": {
      "text/html": [
       "<div>\n",
       "<style scoped>\n",
       "    .dataframe tbody tr th:only-of-type {\n",
       "        vertical-align: middle;\n",
       "    }\n",
       "\n",
       "    .dataframe tbody tr th {\n",
       "        vertical-align: top;\n",
       "    }\n",
       "\n",
       "    .dataframe thead th {\n",
       "        text-align: right;\n",
       "    }\n",
       "</style>\n",
       "<table border=\"1\" class=\"dataframe\">\n",
       "  <thead>\n",
       "    <tr style=\"text-align: right;\">\n",
       "      <th></th>\n",
       "      <th>Date_Time</th>\n",
       "      <th>air_temp_set_1</th>\n",
       "      <th>relative_humidity_set_1</th>\n",
       "      <th>wind_speed_set_1</th>\n",
       "      <th>wind_direction_set_1</th>\n",
       "      <th>wind_gust_set_1</th>\n",
       "      <th>precip_accum_set_1</th>\n",
       "    </tr>\n",
       "  </thead>\n",
       "  <tbody>\n",
       "    <tr>\n",
       "      <th>1</th>\n",
       "      <td>2020-12-01 12:55:00+00:00</td>\n",
       "      <td>2.78</td>\n",
       "      <td>100.00</td>\n",
       "      <td>1.54</td>\n",
       "      <td>311.0</td>\n",
       "      <td>2.06</td>\n",
       "      <td>0.0</td>\n",
       "    </tr>\n",
       "    <tr>\n",
       "      <th>2</th>\n",
       "      <td>2020-12-01 13:55:00+00:00</td>\n",
       "      <td>3.89</td>\n",
       "      <td>100.00</td>\n",
       "      <td>0.00</td>\n",
       "      <td>344.0</td>\n",
       "      <td>0.00</td>\n",
       "      <td>0.0</td>\n",
       "    </tr>\n",
       "    <tr>\n",
       "      <th>3</th>\n",
       "      <td>2020-12-01 14:55:00+00:00</td>\n",
       "      <td>3.89</td>\n",
       "      <td>96.16</td>\n",
       "      <td>0.51</td>\n",
       "      <td>10.0</td>\n",
       "      <td>1.03</td>\n",
       "      <td>0.0</td>\n",
       "    </tr>\n",
       "    <tr>\n",
       "      <th>4</th>\n",
       "      <td>2020-12-01 15:55:00+00:00</td>\n",
       "      <td>3.33</td>\n",
       "      <td>100.00</td>\n",
       "      <td>1.03</td>\n",
       "      <td>331.0</td>\n",
       "      <td>1.54</td>\n",
       "      <td>0.0</td>\n",
       "    </tr>\n",
       "    <tr>\n",
       "      <th>5</th>\n",
       "      <td>2020-12-01 16:55:00+00:00</td>\n",
       "      <td>5.00</td>\n",
       "      <td>92.52</td>\n",
       "      <td>0.00</td>\n",
       "      <td>46.0</td>\n",
       "      <td>0.00</td>\n",
       "      <td>0.0</td>\n",
       "    </tr>\n",
       "  </tbody>\n",
       "</table>\n",
       "</div>"
      ],
      "text/plain": [
       "                  Date_Time  air_temp_set_1  relative_humidity_set_1  \\\n",
       "1 2020-12-01 12:55:00+00:00            2.78                   100.00   \n",
       "2 2020-12-01 13:55:00+00:00            3.89                   100.00   \n",
       "3 2020-12-01 14:55:00+00:00            3.89                    96.16   \n",
       "4 2020-12-01 15:55:00+00:00            3.33                   100.00   \n",
       "5 2020-12-01 16:55:00+00:00            5.00                    92.52   \n",
       "\n",
       "   wind_speed_set_1  wind_direction_set_1  wind_gust_set_1  precip_accum_set_1  \n",
       "1              1.54                 311.0             2.06                 0.0  \n",
       "2              0.00                 344.0             0.00                 0.0  \n",
       "3              0.51                  10.0             1.03                 0.0  \n",
       "4              1.03                 331.0             1.54                 0.0  \n",
       "5              0.00                  46.0             0.00                 0.0  "
      ]
     },
     "execution_count": 26,
     "metadata": {},
     "output_type": "execute_result"
    }
   ],
   "source": [
    "#convert all to numbers besides the wind, station, date\n",
    "\n",
    "cols = UWASH.columns.drop(['Date_Time']) #,'wind_cardinal_direction_set_1d'])\n",
    "#cols = UWASH.columns.drop(['Date_Time'])\n",
    "\n",
    "UWASH[cols] = UWASH[cols].apply(pd.to_numeric, errors='coerce')\n",
    "\n",
    "UWASH= UWASH.dropna(axis=1, how='all')\n",
    "UWASH.head(5)\n"
   ]
  },
  {
   "cell_type": "code",
   "execution_count": 27,
   "id": "99e47b9b-a439-47e6-9610-fcff4d39170b",
   "metadata": {},
   "outputs": [
    {
     "name": "stdout",
     "output_type": "stream",
     "text": [
      "<class 'pandas.core.frame.DataFrame'>\n",
      "RangeIndex: 19038 entries, 1 to 19038\n",
      "Data columns (total 7 columns):\n",
      " #   Column                   Non-Null Count  Dtype              \n",
      "---  ------                   --------------  -----              \n",
      " 0   Date_Time                19038 non-null  datetime64[ns, UTC]\n",
      " 1   air_temp_set_1           19036 non-null  float64            \n",
      " 2   relative_humidity_set_1  17958 non-null  float64            \n",
      " 3   wind_speed_set_1         19038 non-null  float64            \n",
      " 4   wind_direction_set_1     19026 non-null  float64            \n",
      " 5   wind_gust_set_1          19038 non-null  float64            \n",
      " 6   precip_accum_set_1       9798 non-null   float64            \n",
      "dtypes: datetime64[ns, UTC](1), float64(6)\n",
      "memory usage: 1.0 MB\n"
     ]
    }
   ],
   "source": [
    "UWASH.info()"
   ]
  },
  {
   "cell_type": "code",
   "execution_count": 28,
   "id": "cb46563a-70ce-4b2c-86e6-28ff713e3d5f",
   "metadata": {},
   "outputs": [
    {
     "name": "stdout",
     "output_type": "stream",
     "text": [
      "<class 'pandas.core.frame.DataFrame'>\n",
      "RangeIndex: 19038 entries, 1 to 19038\n",
      "Data columns (total 7 columns):\n",
      " #   Column                       Non-Null Count  Dtype              \n",
      "---  ------                       --------------  -----              \n",
      " 0   Timestamp                    19038 non-null  datetime64[ns, UTC]\n",
      " 1   outdoor_air_temp_C           19036 non-null  float64            \n",
      " 2   outdoor_relative_humidity_%  17958 non-null  float64            \n",
      " 3   outdoor_wind_speed_mpers     19038 non-null  float64            \n",
      " 4   outdoor_wind_direction_deg   19026 non-null  float64            \n",
      " 5   Outdoor_wind_gust_mpers      19038 non-null  float64            \n",
      " 6   precip_accum_mm              9798 non-null   float64            \n",
      "dtypes: datetime64[ns, UTC](1), float64(6)\n",
      "memory usage: 1.0 MB\n"
     ]
    }
   ],
   "source": [
    "UWASH= UWASH.rename(columns= {\"Date_Time\": \"Timestamp\", 'air_temp_set_1': \"outdoor_air_temp_C\", 'relative_humidity_set_1': \"outdoor_relative_humidity_%\", 'wind_chill_set_1d': \"outdoor_wind_chill_C\", 'heat_index_set_1d': \"heat_index_C\", \"wind_speed_set_1\": \"outdoor_wind_speed_mpers\", \n",
    "                             \"wind_direction_set_1\": \"outdoor_wind_direction_deg\", \"wind_gust_set_1\": \"Outdoor_wind_gust_mpers\",\"precip_accum_set_1\" : \"precip_accum_mm\",\"sea_level_pressure_set_1\": \"sea_level_pressure_pascals\", \"dew_point_temperature_set_1d\": \"dew_point_temperature_C\",  \"wind_cardinal_direction_set_1d\": \"wind_cardinal_direction\"   })\n",
    "\n",
    "UWASH.info()"
   ]
  },
  {
   "cell_type": "code",
   "execution_count": 29,
   "id": "1a7b42d3-9a31-416c-b0b5-d2c774accd5a",
   "metadata": {},
   "outputs": [],
   "source": [
    "#remove timezone bc excel doesnt like that \n",
    "\n",
    "#UWASH['Date_Time']= UWASH['Date_Time'].dt.tz_localize(None)"
   ]
  },
  {
   "cell_type": "code",
   "execution_count": 12,
   "id": "07aa82d9-4a6f-4a82-ba59-c51b60cd88e3",
   "metadata": {},
   "outputs": [],
   "source": [
    "#uncomment out when want to minipulate data \n",
    "\n",
    "#UWASH.to_csv('UWASH_cleaned_2023-01-31.csv', index=False)"
   ]
  },
  {
   "cell_type": "markdown",
   "id": "c491ea5b-ca53-4bf8-9941-9a3841cea706",
   "metadata": {},
   "source": [
    "with pd.ExcelWriter(\"UWASH_new_sheet_per_yr.xlsx\") as writer:\n",
    "    for date, data in UWASH.groupby(UWASH['Date_Time'].dt.strftime('%Y')):\n",
    "        data.to_excel(writer, sheet_name = date.replace('/', '_'), index=False)"
   ]
  },
  {
   "cell_type": "code",
   "execution_count": 13,
   "id": "46f0f91a-e0d9-4167-91e7-b2b22126bf63",
   "metadata": {},
   "outputs": [
    {
     "name": "stdout",
     "output_type": "stream",
     "text": [
      "<class 'pandas.core.frame.DataFrame'>\n",
      "RangeIndex: 19038 entries, 1 to 19038\n",
      "Data columns (total 7 columns):\n",
      " #   Column                       Non-Null Count  Dtype              \n",
      "---  ------                       --------------  -----              \n",
      " 0   Timestamp                    19038 non-null  datetime64[ns, UTC]\n",
      " 1   outdoor_air_temp_C           19036 non-null  float64            \n",
      " 2   outdoor_relative_humidity_%  17958 non-null  float64            \n",
      " 3   outdoor_wind_speed_mpers     19038 non-null  float64            \n",
      " 4   outdoor_wind_direction_deg   19026 non-null  float64            \n",
      " 5   Outdoor_wind_gust_mpers      19038 non-null  float64            \n",
      " 6   precip_accum_mm              9798 non-null   float64            \n",
      "dtypes: datetime64[ns, UTC](1), float64(6)\n",
      "memory usage: 1.0 MB\n"
     ]
    }
   ],
   "source": [
    "UWASH.info()"
   ]
  },
  {
   "cell_type": "code",
   "execution_count": 14,
   "id": "d43d6e6e-0715-49c0-8dc1-e8ed5fa4c5dd",
   "metadata": {},
   "outputs": [
    {
     "data": {
      "image/png": "[encoded data removed]",
      "text/plain": [
       "<Figure size 1800x1000 with 1 Axes>"
      ]
     },
     "metadata": {},
     "output_type": "display_data"
    }
   ],
   "source": [
    "fig,ax = plt.subplots(figsize=(18,10))\n",
    "\n",
    "ax.set_title('Hourly Outdoor Temperature (C)')\n",
    "\n",
    "UWASH.plot(x='Timestamp', y='outdoor_air_temp_C',color='k', markerfacecolor='white', ax=ax)\n",
    "\n",
    "ax.set_xlabel(\"Time\",fontsize=14)\n",
    "\n",
    "ax.set_ylabel(\"Hourly Outdoor Temperature (C)\",color='k',fontsize=14);\n",
    "\n",
    "#UWASH.plot(x='Date_Time', y='relative_humidity_set_1', color='dodgerblue', marker='*', markerfacecolor='white', ax=ax2)\n",
    "\n",
    "#ax2.set_ylabel(\"Hourly Relative Humidity (%)\",fontsize=14, color='dodgerblue');\n",
    "#ax2.get_legend().remove()\n",
    "#ax.get_legend().remove()\n",
    "#ax2.invert_yaxis()\n",
    "#ax2.set_ylim(-20,30)\n",
    "\n",
    "#plt.show();"
   ]
  },
  {
   "cell_type": "raw",
   "id": "99fb581c-7bf9-476a-8ecd-6d72e735de8a",
   "metadata": {},
   "source": [
    "fig, (ax1, ax2) = plt.subplots(nrows=2, ncols=1, figsize=(16,6))\n",
    "\n",
    "x1 = UWASH['Date_Time']\n",
    "y1 = UWASH['air_temp_set_1']\n",
    "\n",
    "ax1.plot(x1, y1, label = \"Air Temperature\", color='c', markerfacecolor='white')\n",
    "\n",
    "\n",
    "\n",
    "#Axis Labels \n",
    "ax1.set_ylabel('Air Temperature (C)')\n",
    "\n",
    "\n",
    "x2 = UWASH['Date_Time']\n",
    "y2 = UWASH['relative_humidity_set_1']\n",
    "\n",
    "ax2.plot(x2, y2, label = \"Relative Humidity\", color='m',  markerfacecolor='white')\n",
    "\n",
    "#Axis Labels \n",
    "ax2.set_ylabel('Relative Humidity')\n",
    "#ax2.set_title('Monthy Mean Air Temperature at Pirbadet')\n",
    "\n",
    "\n",
    "x3 = UWASH['Date_Time']\n",
    "#y3 = UWASH['wind_speed_set_1']\n",
    "\n",
    "#ax3.plot(x3, y3, label = \"Wind Speed\", color='dodgerblue', markerfacecolor='white')\n",
    "\n",
    "\n",
    "#Axis Labels \n",
    "#ax3.set_ylabel('Wind Speed (m/s)')\n",
    "#ax3.set_xlabel('Date')\n",
    "#ax3.set_title('Monthy Degre Day at Pirbadet')\n",
    "# show a legend on the plot\n",
    "\n",
    "ax2.legend(loc='lower right')\n",
    "\n",
    "\n",
    "\n",
    "ax1.legend(loc='lower right')\n",
    "#ax3.legend(loc='lower right')\n",
    "\n",
    "\n",
    "x4 = UWASH['Date_Time']\n",
    "#y4 = UWASH['precip_accum_set_1']\n",
    "\n",
    "#ax4.plot(x4, y4, label = \"Percipitation\", color='g',  markerfacecolor='white')\n",
    "#axs.set_xlim(pd.Timestamp('2007-12-01 00:00'), pd.Timestamp('2022-05-01 00:00'))\n",
    "#ax4.set_xlim(pd.Timestamp('2014-11-01 00:00'), pd.Timestamp('2022-05-01 00:00'))\n",
    "\n",
    "\n",
    "#Axis Labels \n",
    "#ax4.set_ylabel('Percipitation (mm)')\n",
    "#ax4.set_xlabel('Date')\n",
    "\n",
    "\n",
    "# show a legend on the plot\n",
    "\n",
    "#ax4.legend(loc='lower right')\n",
    "\n",
    "# Display a figure.\n",
    "plt.show()"
   ]
  },
  {
   "cell_type": "code",
   "execution_count": null,
   "id": "ef6e19b9-b3b3-4615-b5bd-a7a4d871e27c",
   "metadata": {},
   "outputs": [],
   "source": []
  },
  {
   "cell_type": "code",
   "execution_count": null,
   "id": "b87ec7bc",
   "metadata": {},
   "outputs": [],
   "source": []
  },
  {
   "cell_type": "code",
   "execution_count": null,
   "id": "28f4a1a2",
   "metadata": {},
   "outputs": [],
   "source": []
  }
 ],
 "metadata": {
  "kernelspec": {
   "display_name": "Python 3 (ipykernel)",
   "language": "python",
   "name": "python3"
  },
  "language_info": {
   "codemirror_mode": {
    "name": "ipython",
    "version": 3
   },
   "file_extension": ".py",
   "mimetype": "text/x-python",
   "name": "python",
   "nbconvert_exporter": "python",
   "pygments_lexer": "ipython3",
   "version": "3.8.15"
  }
 },
 "nbformat": 4,
 "nbformat_minor": 5
}
